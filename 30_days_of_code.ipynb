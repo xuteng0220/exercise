{
 "cells": [
  {
   "cell_type": "markdown",
   "metadata": {},
   "source": [
    "**Day 8**\n",
    "## Dictionaries and Maps"
   ]
  },
  {
   "cell_type": "code",
   "execution_count": 1,
   "metadata": {},
   "outputs": [
    {
     "name": "stdout",
     "output_type": "stream",
     "text": [
      "3\n",
      "sam 99912222\n",
      "tom 11122222\n",
      "harry 12299933\n",
      "sam\n",
      "sam=99912222\n",
      "edward\n",
      "Not found\n",
      "harry\n",
      "harry=12299933\n",
      "\n"
     ]
    }
   ],
   "source": [
    "n = int(input())\n",
    "phone_book = {}\n",
    "for i in range(n):\n",
    "    name, phone = input().split()\n",
    "    phone_book[name] = phone\n",
    "\n",
    "while True:\n",
    "    test_name = input()\n",
    "    if test_name == '':\n",
    "        break\n",
    "    try:\n",
    "        print('{}={}'.format(test_name, phone_book[test_name]))\n",
    "    except KeyError:\n",
    "        print('Not found')"
   ]
  },
  {
   "cell_type": "code",
   "execution_count": 4,
   "metadata": {},
   "outputs": [
    {
     "data": {
      "text/plain": [
       "'Not found'"
      ]
     },
     "execution_count": 4,
     "metadata": {},
     "output_type": "execute_result"
    }
   ],
   "source": [
    "phone_book.get('ed', 'Not found')"
   ]
  },
  {
   "cell_type": "code",
   "execution_count": 5,
   "metadata": {},
   "outputs": [
    {
     "name": "stdout",
     "output_type": "stream",
     "text": [
      "sam'\n",
      "Not found\n",
      "sam\n",
      "sam=99912222\n",
      "ed\n",
      "Not found\n",
      "harry\n",
      "harry=12299933\n",
      " \n",
      "Not found\n",
      "\n",
      "Not found\n",
      "\n",
      "Not found\n",
      "\n",
      "Not found\n",
      "\n",
      "Not found\n",
      "\n",
      "Not found\n",
      "  \n",
      "Not found\n"
     ]
    }
   ],
   "source": [
    "# how to break with the keyboard not an input file with EOF???\n",
    "while True:\n",
    "    try:\n",
    "        name = input()\n",
    "        if name in phone_book:\n",
    "            print('%s=%s' % (name, phone_book[name]))\n",
    "        else:\n",
    "            print('Not found')\n",
    "    except:\n",
    "        break"
   ]
  },
  {
   "cell_type": "markdown",
   "metadata": {},
   "source": [
    "**Day 9**\n",
    "## Recursion 3"
   ]
  },
  {
   "cell_type": "code",
   "execution_count": null,
   "metadata": {
    "collapsed": true
   },
   "outputs": [],
   "source": [
    "def factorial(n):\n",
    "    if n == 1:\n",
    "        return 1\n",
    "    else:\n",
    "        return n * factorial(n-1)"
   ]
  },
  {
   "cell_type": "code",
   "execution_count": null,
   "metadata": {
    "collapsed": true
   },
   "outputs": [],
   "source": [
    "n = int(input())\n",
    "factorial(n)"
   ]
  },
  {
   "cell_type": "markdown",
   "metadata": {},
   "source": [
    "**Day 10**\n",
    "## Binary Numbers"
   ]
  },
  {
   "cell_type": "code",
   "execution_count": 28,
   "metadata": {},
   "outputs": [
    {
     "name": "stdout",
     "output_type": "stream",
     "text": [
      "23\n"
     ]
    },
    {
     "data": {
      "text/plain": [
       "0"
      ]
     },
     "execution_count": 28,
     "metadata": {},
     "output_type": "execute_result"
    }
   ],
   "source": [
    "n = int(input())\n",
    "\n",
    "# binary(string) of an integer\n",
    "bin_n = bin(n)\n",
    "\n",
    "long1 = 0\n",
    "con1 = 0\n",
    "for i in bin_n[2:]:\n",
    "    if i == '1':\n",
    "        con1 += 1\n",
    "        long1 = con1 if long1 < con1 else long1\n",
    "    else:\n",
    "        con1 = 0\n",
    "\n",
    "long1"
   ]
  },
  {
   "cell_type": "markdown",
   "metadata": {
    "collapsed": true
   },
   "source": [
    "**Day 11**\n",
    "## 2D Arrays"
   ]
  },
  {
   "cell_type": "code",
   "execution_count": 8,
   "metadata": {},
   "outputs": [
    {
     "name": "stdout",
     "output_type": "stream",
     "text": [
      "1 1 1 0 0 0\n",
      "0 1 0 0 0 0\n",
      "1 1 1 0 0 0\n",
      "0 0 2 4 4 0\n",
      "0 0 0 2 0 0\n",
      "0 0 1 2 4 0\n",
      "19\n"
     ]
    }
   ],
   "source": [
    "if __name__ == '__main__':\n",
    "    arr = []\n",
    "\n",
    "# arr is a 2D list\n",
    "for _ in range(6):\n",
    "    arr.append(list(map(int, input().rstrip().split())))\n",
    "\n",
    "hourglass = []\n",
    "\n",
    "for i in range(4):\n",
    "    for j in range(4):\n",
    "        sum = arr[i][j] + arr[i][j+1] + arr[i][j+2] + arr[i+1][j+1] + arr[i+2][j] + arr[i+2][j+1] + arr[i+2][j+2]\n",
    "        hourglass.append(sum)\n",
    "\n",
    "print(max(hourglass))"
   ]
  },
  {
   "cell_type": "code",
   "execution_count": 6,
   "metadata": {},
   "outputs": [
    {
     "data": {
      "text/plain": [
       "2"
      ]
     },
     "execution_count": 6,
     "metadata": {},
     "output_type": "execute_result"
    }
   ],
   "source": [
    "# 2d list index\n",
    "arr[3][2]"
   ]
  },
  {
   "cell_type": "markdown",
   "metadata": {},
   "source": [
    "**Day 12**\n",
    "## Inheritance"
   ]
  },
  {
   "cell_type": "code",
   "execution_count": 17,
   "metadata": {
    "collapsed": true
   },
   "outputs": [],
   "source": [
    "class Person:\n",
    "    def __init__(self, firstName, lastName, idNumber):\n",
    "        self.firstName = firstName\n",
    "        self.lastName = lastName\n",
    "        self.idNumber = idNumber\n",
    "    def printPerson(self):\n",
    "        print(\"Name:\", self.lastName + \",\", self.firstName)\n",
    "        print(\"ID:\", self.idNumber)\n",
    "\n",
    "class Student(Person):\n",
    "    #   Class Constructor\n",
    "    #   \n",
    "    #   Parameters:\n",
    "    #   firstName - A string denoting the Person's first name.\n",
    "    #   lastName - A string denoting the Person's last name.\n",
    "    #   id - An integer denoting the Person's ID number.\n",
    "    #   scores - An array of integers denoting the Person's test scores.\n",
    "    #\n",
    "    # Write your constructor here\n",
    "    def __init__(self, firstName, lastName, idNumber, scores):\n",
    "        self.firstName = firstName\n",
    "        self.lastName = lastName\n",
    "        self.idNumber = idNumber\n",
    "        self.scores = scores\n",
    "\n",
    "    #   Function Name: calculate\n",
    "    #   Return: A character denoting the grade.\n",
    "    #\n",
    "    # Write your function here\n",
    "    def calculate(self):\n",
    "        score_sum = 0\n",
    "        for i in self.scores:\n",
    "            score_sum += i\n",
    "        score_avg = score_sum / len(self.scores)\n",
    "        if score_avg < 40:\n",
    "            return 'T'\n",
    "        elif score_avg < 55:\n",
    "            return 'D'\n",
    "        elif score_avg < 70:\n",
    "            return 'P'\n",
    "        elif score_avg < 80:\n",
    "            return 'A'\n",
    "        elif score_avg < 90:\n",
    "            return 'E'\n",
    "        else:\n",
    "            return 'O'"
   ]
  },
  {
   "cell_type": "code",
   "execution_count": 18,
   "metadata": {},
   "outputs": [
    {
     "name": "stdout",
     "output_type": "stream",
     "text": [
      "Heraldo Memelli 8135627\n",
      "2\n",
      "100 80\n",
      "Name: Memelli, Heraldo\n",
      "ID: 8135627\n",
      "Grade: 90.0\n"
     ]
    }
   ],
   "source": [
    "line = input().split()\n",
    "firstName = line[0]\n",
    "lastName = line[1]\n",
    "idNum = line[2]\n",
    "numScores = int(input()) # not needed for Python\n",
    "scores = list( map(int, input().split()) )\n",
    "s = Student(firstName, lastName, idNum, scores)\n",
    "s.printPerson()\n",
    "print(\"Grade:\", s.calculate())"
   ]
  },
  {
   "cell_type": "markdown",
   "metadata": {},
   "source": [
    "**Day 13**\n",
    "## Abstract Classes"
   ]
  },
  {
   "cell_type": "code",
   "execution_count": 2,
   "metadata": {},
   "outputs": [],
   "source": [
    "from abc import ABCMeta, abstractmethod\n",
    "class Book(object, metaclass=ABCMeta):\n",
    "    def __init__(self,title,author):\n",
    "        self.title=title\n",
    "        self.author=author   \n",
    "    @abstractmethod\n",
    "    def display(self):\n",
    "        print('Title: {}'.format(self.title))\n",
    "        print('Author: {}'.format(self.author))\n",
    "\n",
    "\n",
    "\n",
    "#Write MyBook class\n",
    "class MyBook(Book):\n",
    "    def __init__(self, title, author, price):\n",
    "        Book.__init__(self, title, author)\n",
    "        self.price = price\n",
    "\n",
    "    def display(self):\n",
    "        print('Title: {}'.format(self.title))\n",
    "        print('Author: {}'.format(self.author))\n",
    "        print('Price: {}'.format(self.price))\n"
   ]
  },
  {
   "cell_type": "code",
   "execution_count": 3,
   "metadata": {},
   "outputs": [
    {
     "name": "stdout",
     "output_type": "stream",
     "text": [
      "the alch\n",
      "pal co\n",
      "248\n",
      "Title: the alch\n",
      "Author: pal co\n",
      "Price: 248\n"
     ]
    }
   ],
   "source": [
    "\n",
    "title=input()\n",
    "author=input()\n",
    "price=int(input())\n",
    "new_novel=MyBook(title,author,price)\n",
    "new_novel.display()"
   ]
  },
  {
   "cell_type": "markdown",
   "metadata": {},
   "source": []
  },
  {
   "cell_type": "code",
   "execution_count": 11,
   "metadata": {
    "collapsed": true
   },
   "outputs": [],
   "source": [
    "class Difference:\n",
    "    def __init__(self, a):\n",
    "        # ?? __elements\n",
    "        self.__elements = a\n",
    "\n",
    "    def computeDifference(self):\n",
    "        min = self.__elements[0]\n",
    "        max = self.__elements[0]\n",
    "        for i in self.__elements[1:]:\n",
    "            if i < min:\n",
    "                min = i\n",
    "            if i > max:\n",
    "                max = i\n",
    "        self.__maximumDifference = max - min\n",
    "        return __maximumDifference"
   ]
  },
  {
   "cell_type": "code",
   "execution_count": 12,
   "metadata": {},
   "outputs": [
    {
     "name": "stdout",
     "output_type": "stream",
     "text": [
      "3\n",
      "1 2 5\n"
     ]
    },
    {
     "ename": "NameError",
     "evalue": "name '_Difference__maximumDifference' is not defined",
     "output_type": "error",
     "traceback": [
      "\u001b[0;31m---------------------------------------------------------------------------\u001b[0m",
      "\u001b[0;31mNameError\u001b[0m                                 Traceback (most recent call last)",
      "\u001b[0;32m<ipython-input-12-9f37be599ae8>\u001b[0m in \u001b[0;36m<module>\u001b[0;34m()\u001b[0m\n\u001b[1;32m      3\u001b[0m \u001b[0;34m\u001b[0m\u001b[0m\n\u001b[1;32m      4\u001b[0m \u001b[0md\u001b[0m \u001b[0;34m=\u001b[0m \u001b[0mDifference\u001b[0m\u001b[0;34m(\u001b[0m\u001b[0ma\u001b[0m\u001b[0;34m)\u001b[0m\u001b[0;34m\u001b[0m\u001b[0m\n\u001b[0;32m----> 5\u001b[0;31m \u001b[0md\u001b[0m\u001b[0;34m.\u001b[0m\u001b[0mcomputeDifference\u001b[0m\u001b[0;34m(\u001b[0m\u001b[0;34m)\u001b[0m\u001b[0;34m\u001b[0m\u001b[0m\n\u001b[0m\u001b[1;32m      6\u001b[0m \u001b[0;34m\u001b[0m\u001b[0m\n\u001b[1;32m      7\u001b[0m \u001b[0mprint\u001b[0m\u001b[0;34m(\u001b[0m\u001b[0md\u001b[0m\u001b[0;34m.\u001b[0m\u001b[0mmaximumDifference\u001b[0m\u001b[0;34m)\u001b[0m\u001b[0;34m\u001b[0m\u001b[0m\n",
      "\u001b[0;32m<ipython-input-11-85dc2f2cf61d>\u001b[0m in \u001b[0;36mcomputeDifference\u001b[0;34m(self)\u001b[0m\n\u001b[1;32m     13\u001b[0m                 \u001b[0mmax\u001b[0m \u001b[0;34m=\u001b[0m \u001b[0mi\u001b[0m\u001b[0;34m\u001b[0m\u001b[0m\n\u001b[1;32m     14\u001b[0m         \u001b[0mself\u001b[0m\u001b[0;34m.\u001b[0m\u001b[0m__maximumDifference\u001b[0m \u001b[0;34m=\u001b[0m \u001b[0mmax\u001b[0m \u001b[0;34m-\u001b[0m \u001b[0mmin\u001b[0m\u001b[0;34m\u001b[0m\u001b[0m\n\u001b[0;32m---> 15\u001b[0;31m         \u001b[0;32mreturn\u001b[0m \u001b[0m__maximumDifference\u001b[0m\u001b[0;34m\u001b[0m\u001b[0m\n\u001b[0m",
      "\u001b[0;31mNameError\u001b[0m: name '_Difference__maximumDifference' is not defined"
     ]
    }
   ],
   "source": [
    "_ = input()\n",
    "a = [int(e) for e in input().split(' ')]\n",
    "\n",
    "d = Difference(a)\n",
    "d.computeDifference()\n",
    "\n",
    "print(d.maximumDifference)"
   ]
  },
  {
   "cell_type": "code",
   "execution_count": null,
   "metadata": {
    "collapsed": true
   },
   "outputs": [],
   "source": []
  }
 ],
 "metadata": {
  "kernelspec": {
   "display_name": "Python 3",
   "language": "python",
   "name": "python3"
  },
  "language_info": {
   "codemirror_mode": {
    "name": "ipython",
    "version": 3
   },
   "file_extension": ".py",
   "mimetype": "text/x-python",
   "name": "python",
   "nbconvert_exporter": "python",
   "pygments_lexer": "ipython3",
   "version": "3.6.3"
  },
  "toc": {
   "nav_menu": {},
   "number_sections": true,
   "sideBar": true,
   "skip_h1_title": false,
   "toc_cell": false,
   "toc_position": {},
   "toc_section_display": "block",
   "toc_window_display": false
  }
 },
 "nbformat": 4,
 "nbformat_minor": 2
}
