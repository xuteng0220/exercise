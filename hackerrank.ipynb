{
 "cells": [
  {
   "cell_type": "code",
   "execution_count": 1,
   "metadata": {
    "collapsed": true
   },
   "outputs": [],
   "source": [
    "import numpy as np\n",
    "import pandas as pd"
   ]
  },
  {
   "cell_type": "markdown",
   "metadata": {},
   "source": [
    "## introduction"
   ]
  },
  {
   "cell_type": "markdown",
   "metadata": {},
   "source": [
    "### Say \"Hello, World!\" With Python"
   ]
  },
  {
   "cell_type": "code",
   "execution_count": 197,
   "metadata": {},
   "outputs": [
    {
     "name": "stdout",
     "output_type": "stream",
     "text": [
      "Hello, World!\n"
     ]
    }
   ],
   "source": [
    "print(\"Hello, World!\")"
   ]
  },
  {
   "cell_type": "markdown",
   "metadata": {
    "scrolled": true
   },
   "source": [
    "### Python If-Else"
   ]
  },
  {
   "cell_type": "code",
   "execution_count": 204,
   "metadata": {},
   "outputs": [
    {
     "name": "stdout",
     "output_type": "stream",
     "text": [
      "26\n",
      "Not Weird\n"
     ]
    }
   ],
   "source": [
    "N = int(input())\n",
    "\n",
    "if (N < 1) or (N > 100):\n",
    "    print('out of the range')\n",
    "elif (N % 2) == 0:\n",
    "    if N < 6:\n",
    "        print('Not Weird')\n",
    "    elif N < 21:\n",
    "        print('Weird')\n",
    "    else:\n",
    "        print('Not Weird')\n",
    "else:\n",
    "    print('Weird')"
   ]
  },
  {
   "cell_type": "code",
   "execution_count": 203,
   "metadata": {},
   "outputs": [
    {
     "name": "stdout",
     "output_type": "stream",
     "text": [
      "Not Weird\n"
     ]
    }
   ],
   "source": [
    "n = 26\n",
    "if n%2==1:\n",
    "    print(\"Weird\")\n",
    "elif n>=2 and n<=5:\n",
    "    print(\"Not Weird\")\n",
    "elif n>=6 and n<=20:\n",
    "    print(\"Weird\")\n",
    "else:\n",
    "    print(\"Not Weird\")"
   ]
  },
  {
   "cell_type": "markdown",
   "metadata": {},
   "source": [
    "### Arithmetic Operators"
   ]
  },
  {
   "cell_type": "code",
   "execution_count": 205,
   "metadata": {},
   "outputs": [
    {
     "name": "stdout",
     "output_type": "stream",
     "text": [
      "5\n",
      "6\n",
      "11\n",
      "-1\n",
      "30\n"
     ]
    }
   ],
   "source": [
    "if __name__ == '__main__':\n",
    "    a = int(input())\n",
    "    b = int(input())\n",
    "\n",
    "print(a + b)\n",
    "print(a - b)\n",
    "print(a * b)\n"
   ]
  },
  {
   "cell_type": "markdown",
   "metadata": {},
   "source": [
    "### Python: Division"
   ]
  },
  {
   "cell_type": "code",
   "execution_count": 206,
   "metadata": {
    "scrolled": true
   },
   "outputs": [
    {
     "name": "stdout",
     "output_type": "stream",
     "text": [
      "7\n",
      "2\n",
      "3\n",
      "3.5\n"
     ]
    }
   ],
   "source": [
    "if __name__ == '__main__':\n",
    "    a = int(input())\n",
    "    b = int(input())\n",
    "\n",
    "print(a // b)\n",
    "print(a / b)"
   ]
  },
  {
   "cell_type": "markdown",
   "metadata": {},
   "source": [
    "### Loops"
   ]
  },
  {
   "cell_type": "code",
   "execution_count": 207,
   "metadata": {},
   "outputs": [
    {
     "name": "stdout",
     "output_type": "stream",
     "text": [
      "7\n",
      "0\n",
      "1\n",
      "4\n",
      "9\n",
      "16\n",
      "25\n",
      "36\n"
     ]
    }
   ],
   "source": [
    "if __name__ == '__main__':\n",
    "    n = int(input())\n",
    "\n",
    "for i in range(n):\n",
    "    print(i ** 2)"
   ]
  },
  {
   "cell_type": "markdown",
   "metadata": {},
   "source": [
    "### Write a function"
   ]
  },
  {
   "cell_type": "code",
   "execution_count": 208,
   "metadata": {
    "scrolled": true
   },
   "outputs": [
    {
     "name": "stdout",
     "output_type": "stream",
     "text": [
      "2100\n",
      "False\n"
     ]
    }
   ],
   "source": [
    "def is_leap(year):\n",
    "\n",
    "    leap = False\n",
    "    if year % 4 == 0:\n",
    "        if year % 100 == 0:\n",
    "            if year % 400 == 0:\n",
    "                leap = True\n",
    "            else:\n",
    "                leap = False\n",
    "        else:\n",
    "            leap = True\n",
    "    \n",
    "    return leap\n",
    "\n",
    "\n",
    "year = int(input())\n",
    "print(is_leap(year))"
   ]
  },
  {
   "cell_type": "markdown",
   "metadata": {},
   "source": [
    "### Print Function"
   ]
  },
  {
   "cell_type": "code",
   "execution_count": 209,
   "metadata": {
    "scrolled": true
   },
   "outputs": [
    {
     "name": "stdout",
     "output_type": "stream",
     "text": [
      "17\n",
      "1234567891011121314151617\n"
     ]
    }
   ],
   "source": [
    "if __name__ == '__main__':\n",
    "    n = int(input())\n",
    "\n",
    "import math\n",
    "\n",
    "s = 0\n",
    "for i in range(n + 1)[1:(n+1)]:\n",
    "    s = s * (10 ** (int(math.log(i, 10)) + 1)) + i\n",
    "\n",
    "print(s)"
   ]
  },
  {
   "cell_type": "code",
   "execution_count": 211,
   "metadata": {
    "scrolled": true
   },
   "outputs": [
    {
     "name": "stdout",
     "output_type": "stream",
     "text": [
      "12\n",
      "123456789101112\n",
      "13\n",
      "12345678910111213"
     ]
    }
   ],
   "source": [
    "print(*range(1, int(input()) + 1), sep='')\n",
    "for i in range(1,int(input()) + 1):\n",
    "    print (i,end='')\n",
    "    \n",
    "list(map(lambda x: print(x,end=''),list(range(1,1+int(input())))))"
   ]
  },
  {
   "cell_type": "markdown",
   "metadata": {},
   "source": [
    "## Basic Data Types"
   ]
  },
  {
   "cell_type": "markdown",
   "metadata": {},
   "source": [
    "### List Comprehensions"
   ]
  },
  {
   "cell_type": "code",
   "execution_count": 220,
   "metadata": {},
   "outputs": [
    {
     "name": "stdout",
     "output_type": "stream",
     "text": [
      "3\n",
      "3\n",
      "5\n",
      "4\n",
      "[[0, 0, 0], [0, 0, 1], [0, 0, 2], [0, 0, 3], [0, 0, 5], [0, 1, 0], [0, 1, 1], [0, 1, 2], [0, 1, 4], [0, 1, 5], [0, 2, 0], [0, 2, 1], [0, 2, 3], [0, 2, 4], [0, 2, 5], [0, 3, 0], [0, 3, 2], [0, 3, 3], [0, 3, 4], [0, 3, 5], [1, 0, 0], [1, 0, 1], [1, 0, 2], [1, 0, 4], [1, 0, 5], [1, 1, 0], [1, 1, 1], [1, 1, 3], [1, 1, 4], [1, 1, 5], [1, 2, 0], [1, 2, 2], [1, 2, 3], [1, 2, 4], [1, 2, 5], [1, 3, 1], [1, 3, 2], [1, 3, 3], [1, 3, 4], [1, 3, 5], [2, 0, 0], [2, 0, 1], [2, 0, 3], [2, 0, 4], [2, 0, 5], [2, 1, 0], [2, 1, 2], [2, 1, 3], [2, 1, 4], [2, 1, 5], [2, 2, 1], [2, 2, 2], [2, 2, 3], [2, 2, 4], [2, 2, 5], [2, 3, 0], [2, 3, 1], [2, 3, 2], [2, 3, 3], [2, 3, 4], [2, 3, 5], [3, 0, 0], [3, 0, 2], [3, 0, 3], [3, 0, 4], [3, 0, 5], [3, 1, 1], [3, 1, 2], [3, 1, 3], [3, 1, 4], [3, 1, 5], [3, 2, 0], [3, 2, 1], [3, 2, 2], [3, 2, 3], [3, 2, 4], [3, 2, 5], [3, 3, 0], [3, 3, 1], [3, 3, 2], [3, 3, 3], [3, 3, 4], [3, 3, 5]]\n"
     ]
    }
   ],
   "source": [
    "if __name__ == '__main__':\n",
    "    x = int(input())\n",
    "    y = int(input())\n",
    "    z = int(input())\n",
    "    n = int(input())\n",
    "\n",
    "ar = []\n",
    "p = 0\n",
    "for i in range(x + 1):\n",
    "    for j in range(y + 1):\n",
    "        for k in range(z + 1):\n",
    "            if (i + j + k) != n:\n",
    "                ar.append([])\n",
    "                ar[p] = [i, j, k]\n",
    "                p += 1\n",
    "\n",
    "print(ar)\n",
    "\n",
    "\n",
    "# mtd1\n",
    "# [[i, j, k ] for i in range(x) for j in range(y) for k in range(z) if (i + j + k) != n]"
   ]
  },
  {
   "cell_type": "markdown",
   "metadata": {},
   "source": [
    "### Find the Runner-Up Score!"
   ]
  },
  {
   "cell_type": "code",
   "execution_count": 216,
   "metadata": {},
   "outputs": [
    {
     "name": "stdout",
     "output_type": "stream",
     "text": [
      "5\n",
      "5 6 6 4 8\n",
      "6\n"
     ]
    }
   ],
   "source": [
    "if __name__ == '__main__':\n",
    "    n = int(input())\n",
    "    arr = map(int, input().split())\n",
    "\n",
    "list_arr = list(arr)\n",
    "s = []\n",
    "for i in list_arr:\n",
    "    if i not in s:\n",
    "        s.append(i)\n",
    "\n",
    "# mtd1\n",
    "# s=list(set(list_arr))\n",
    "\n",
    "# mtd2\n",
    "# big, sbig = -10000, -10000\n",
    "# for i in list_arr:\n",
    "#     if (i > big):\n",
    "#         big, sbig = i, big\n",
    "#     elif (i < big and i > sbig):\n",
    "#         sbig = i\n",
    "# sbig\n",
    "\n",
    "s.sort()\n",
    "\n",
    "print(s[-2])"
   ]
  },
  {
   "cell_type": "markdown",
   "metadata": {},
   "source": [
    "### Nested Lists"
   ]
  },
  {
   "cell_type": "code",
   "execution_count": null,
   "metadata": {
    "collapsed": true
   },
   "outputs": [],
   "source": [
    "if __name__ == '__main__':\n",
    "    l_name = []\n",
    "    l_score = []\n",
    "    n = int(input())\n",
    "    for _ in range(n):\n",
    "        name = input()\n",
    "        l_name.append(name)\n",
    "        score = float(input())\n",
    "        l_score.append(score)\n",
    "\n",
    "\n",
    "a_dict = dict(zip(l_name, l_score))\n",
    "\n",
    "# snd_small\n",
    "l_score.sort()\n",
    "\n",
    "for i in range(1, n):\n",
    "    if l_score[i] > l_score[i - 1]:\n",
    "        snd_small = l_score[i]\n",
    "        break\n",
    "\n",
    "result = []\n",
    "for key,value in a_dict.items():\n",
    "    if value==snd_small:\n",
    "        result.append(key)\n",
    "        \n",
    "# 按名字首字母排序\n",
    "result.sort()\n",
    "\n",
    "for i in result:\n",
    "    print(i)\n",
    "    \n",
    "    \n",
    "# # mtd1\n",
    "# from collections import defaultdict\n",
    "# marks = defaultdict(list)\n",
    "# for _ in range(int(input())):\n",
    "#     name, mark = input(), float(input())\n",
    "#     marks[mark].append(name)\n",
    "\n",
    "# print(\"\\n\".join(map(str, sorted(marks[sorted(marks.keys())[1]]))))\n",
    "\n",
    "\n",
    "\n",
    "# # mtd2\n",
    "# def secondLowestMarks(students):\n",
    "#     lowest_mark = min(students, key = lambda stu: stu[1])[1];\n",
    "#     students = [stu for stu in students if stu[1] != lowest_mark]\n",
    "#     #filter(lambda stu: stu[1] == lowest_mark, students);\n",
    "#     second_lowest_mark = min(students, key = lambda stu: stu[1])[1];\n",
    "#     return sorted([stu[0] for stu in students if stu[1] == second_lowest_mark]);\n",
    "\n",
    "# def secondLowestMarks2(students):\n",
    "#     \"If there's a tie for lowest mark we include all.\"\n",
    "#     students.sort();\n",
    "#     picked_students = sorted(filter(lambda x: x[1] == students[1][1], students));\n",
    "#     return [stu[0] for stu in picked_students];\n",
    "\n",
    "# if __name__ == \"__main__\":\n",
    "#     num_students = int(input());\n",
    "#     students = [[input(),float(input())] for i in range(num_students)];\n",
    "#     for student in secondLowestMarks(students):\n",
    "#         print(student);"
   ]
  },
  {
   "cell_type": "markdown",
   "metadata": {},
   "source": [
    "### Finding the percentage"
   ]
  },
  {
   "cell_type": "code",
   "execution_count": null,
   "metadata": {
    "collapsed": true
   },
   "outputs": [],
   "source": [
    "if __name__ == '__main__':\n",
    "    n = int(input())\n",
    "    student_marks = {}\n",
    "    for _ in range(n):\n",
    "        name, *line = input().split()\n",
    "        scores = list(map(float, line))\n",
    "        student_marks[name] = scores\n",
    "    \n",
    "student_marks_avg = {}\n",
    "for key in student_marks.keys():\n",
    "    student_marks_avg[key] = sum(student_marks[key]) / len(student_marks[key])\n",
    "    \n",
    "query_name = input()\n",
    "\n",
    "print('%.2f' % student_marks_avg[query_name])\n",
    "\n",
    "# # mtd1\n",
    "# data = {}\n",
    "# for _ in range(int(input())):\n",
    "#     name, *marks = input().split()\n",
    "#     data[name] = [float(m) for m in marks]\n",
    "# marks = data[input()]\n",
    "# print(\"%.2f\" % (sum(marks)/len(marks)))"
   ]
  },
  {
   "cell_type": "markdown",
   "metadata": {},
   "source": [
    "### Lists"
   ]
  },
  {
   "cell_type": "code",
   "execution_count": null,
   "metadata": {
    "collapsed": true
   },
   "outputs": [],
   "source": [
    "if __name__ == '__main__':\n",
    "    N = int(input())\n",
    "    \n",
    "    command_list = []\n",
    "    for _ in range(N):\n",
    "        command_name, *line = input().split()\n",
    "        command = list(map(int, line))\n",
    "        command.insert(0, command_name)\n",
    "        command_list.append(command)\n",
    "\n",
    "    \n",
    "target_list = []\n",
    "for command in command_list:\n",
    "    if command[0] == 'insert':\n",
    "        target_list.insert(command[1], command[2])\n",
    "    elif command[0] == 'print':\n",
    "        print(target_list)\n",
    "    elif command[0] == 'remove':\n",
    "        target_list.remove(command[1])\n",
    "    elif command[0] == 'append':\n",
    "        target_list.append(command[1])\n",
    "    elif command[0] == 'sort':\n",
    "        target_list.sort()\n",
    "    elif command[0] == 'pop':\n",
    "        target_list.pop()\n",
    "    else:\n",
    "        target_list.reverse()\n",
    "        \n",
    "\n",
    "# # mtd1\n",
    "# test =int(input())\n",
    "# s=[]\n",
    "# for _ in range (test):\n",
    "#     cmd=list(input().split())\n",
    "    \n",
    "#     if cmd[0]=='insert':\n",
    "#         s.insert(int(cmd[1]),int(cmd[2]))\n",
    "#     elif cmd[0]==\"remove\":\n",
    "#         s.remove(int(cmd[1]))\n",
    "#     elif cmd[0]==\"append\":\n",
    "#         s.append(int(cmd[1]))\n",
    "#     elif cmd[0]==\"sort\":\n",
    "#         s.sort()\n",
    "#     elif cmd[0]==\"pop\":\n",
    "#         s.pop()\n",
    "#     elif cmd[0]==\"reverse\":\n",
    "#         s.reverse()\n",
    "#     elif cmd[0]==\"count\":\n",
    "#         v=s.count(int(cmd[1]))\n",
    "#         print(v)\n",
    "#     elif cmd[0]==\"index\":\n",
    "#         x=s.index(int(cmd[1]))\n",
    "#         print(x)\n",
    "#     elif cmd[0]== 'print':\n",
    "#         print(s)"
   ]
  },
  {
   "cell_type": "markdown",
   "metadata": {},
   "source": [
    "### Tuples"
   ]
  },
  {
   "cell_type": "code",
   "execution_count": null,
   "metadata": {
    "collapsed": true
   },
   "outputs": [],
   "source": [
    "if __name__ == '__main__':\n",
    "    n = int(input())\n",
    "    integer_list = map(int, input().split())\n",
    "\n",
    "integer_tuple = tuple(integer_list)\n",
    "\n",
    "# mtd1\n",
    "# integer_tuple = tuple([int(n) for n in input().split()])\n",
    "print(hash(integer_tuple))"
   ]
  },
  {
   "cell_type": "markdown",
   "metadata": {},
   "source": [
    "## Strings"
   ]
  },
  {
   "cell_type": "markdown",
   "metadata": {},
   "source": [
    "### sWAP cASE"
   ]
  },
  {
   "cell_type": "code",
   "execution_count": null,
   "metadata": {
    "collapsed": true
   },
   "outputs": [],
   "source": [
    "def swap_case(s):\n",
    "    new_s = ''\n",
    "    for i in s:\n",
    "        if i.isalpha():\n",
    "            if i.isupper():\n",
    "                new_s = new_s + i.lower()\n",
    "            else:\n",
    "                new_s = new_s + i.upper()\n",
    "        else:\n",
    "            new_s = new_s + i\n",
    "    return new_s\n",
    "\n",
    "if __name__ == '__main__':\n",
    "    s = input()\n",
    "    result = swap_case(s)\n",
    "    print(result)\n",
    "    \n",
    "\n",
    "# # mtd1\n",
    "# string_input = input()\n",
    "# print(string_input.swapcase())\n",
    "\n",
    "\n",
    "# # mtd2\n",
    "# import sys\n",
    "\n",
    "# for line in sys.stdin:\n",
    "#     s.join(strings)以s连接strings \n",
    "#     line = ''.join([c.upper() if c.islower() else c.lower() for c in line])\n",
    "#     print(line)"
   ]
  },
  {
   "cell_type": "markdown",
   "metadata": {},
   "source": [
    "### String Split and Join"
   ]
  },
  {
   "cell_type": "code",
   "execution_count": null,
   "metadata": {
    "collapsed": true
   },
   "outputs": [],
   "source": [
    "def split_and_join(line):\n",
    "    # write your code here\n",
    "    strList = line.split(\" \")\n",
    "    return \"-\".join(strList)\n",
    "\n",
    "if __name__ == '__main__':\n",
    "    line = input()\n",
    "    result = split_and_join(line)\n",
    "    print(result)"
   ]
  },
  {
   "cell_type": "markdown",
   "metadata": {},
   "source": [
    "### What's Your Name?"
   ]
  },
  {
   "cell_type": "code",
   "execution_count": null,
   "metadata": {
    "collapsed": true
   },
   "outputs": [],
   "source": [
    "def print_full_name(a, b):\n",
    "    print(\"Hello %s %s! You just delved into python.\" % (a, b))\n",
    "    \n",
    "## mtd1\n",
    "#     print(\"Hello {} {}! You just delved into python.\".format(a, b))\n",
    "\n",
    "if __name__ == '__main__':\n",
    "    first_name = input()\n",
    "    last_name = input()\n",
    "    print_full_name(first_name, last_name)"
   ]
  },
  {
   "cell_type": "markdown",
   "metadata": {
    "collapsed": true
   },
   "source": [
    "### Mutations"
   ]
  },
  {
   "cell_type": "code",
   "execution_count": 328,
   "metadata": {},
   "outputs": [
    {
     "name": "stdout",
     "output_type": "stream",
     "text": [
      "abcdzfg\n",
      "4 e\n",
      "abcdefg\n"
     ]
    }
   ],
   "source": [
    "def mutate_string(string, position, character):\n",
    "    \n",
    "    # 1st\n",
    "    l = list(string)\n",
    "    l[position] = character\n",
    "    new_string = ''.join(l)\n",
    "\n",
    "    # # 2nd\n",
    "    # new_string = string[:(position - 1)] + character + string[(position + 1):]\n",
    "    return new_string\n",
    "\n",
    "\n",
    "if __name__ == '__main__':\n",
    "    s = input()\n",
    "    i, c = input().split()\n",
    "    s_new = mutate_string(s, int(i), c)\n",
    "    print(s_new)"
   ]
  },
  {
   "cell_type": "markdown",
   "metadata": {
    "collapsed": true
   },
   "source": [
    "### Find a string"
   ]
  },
  {
   "cell_type": "code",
   "execution_count": 330,
   "metadata": {
    "scrolled": true
   },
   "outputs": [
    {
     "name": "stdout",
     "output_type": "stream",
     "text": [
      "abcabdefabc\n",
      "abc\n",
      "2\n"
     ]
    }
   ],
   "source": [
    "def count_substring(string, sub_string):\n",
    "    \n",
    "    num = 0\n",
    "    len_sub = len(sub_string)\n",
    "    for i in range(len(string)): # for i in range(len(string) - len_sub + 1)\n",
    "        if len(string) < len_sub:\n",
    "            break\n",
    "        elif string[i:(i + len_sub)] == sub_string:\n",
    "            num += 1\n",
    "\n",
    "    return num\n",
    "\n",
    "\n",
    "# # mtd1\n",
    "# for i in range(0, len(S)):\n",
    "#     # S.count(sub[, start[, end]])\n",
    "#     count += S.count(ss,i,i+len(ss)) \n",
    "# print(count)\n",
    "\n",
    "\n",
    "if __name__ == '__main__':\n",
    "    \n",
    "    # str.strip() 移除字符串头尾指定的字符（默认为空格或换行符）或字符序列\n",
    "    string = input().strip()\n",
    "    sub_string = input().strip()\n",
    "    \n",
    "    count = count_substring(string, sub_string)\n",
    "    print(count)"
   ]
  },
  {
   "cell_type": "markdown",
   "metadata": {},
   "source": [
    "### String Validators"
   ]
  },
  {
   "cell_type": "code",
   "execution_count": 333,
   "metadata": {},
   "outputs": [
    {
     "name": "stdout",
     "output_type": "stream",
     "text": [
      "qA2\n",
      "True\n",
      "True\n",
      "True\n",
      "True\n",
      "True\n"
     ]
    }
   ],
   "source": [
    "if __name__ == '__main__':\n",
    "    s = input().strip()\n",
    "\n",
    "    len_s = len(s)\n",
    "    \n",
    "    #  if the string has a alphanumeric (a-z, A-Z and 0-9)\n",
    "    i = 0\n",
    "    while i < len(s):\n",
    "        if s[i].isalnum():\n",
    "            print('True')\n",
    "            break\n",
    "        else:\n",
    "            i += 1\n",
    "    if i == len(s):\n",
    "        print('False')\n",
    "\n",
    "    #  if the string has a alphabeta(a-z, A-Z)\n",
    "    while i < len(s):\n",
    "        if s[i].isalpha():\n",
    "            print('True')\n",
    "            break\n",
    "        else:\n",
    "            i += 1\n",
    "    if i == len(s):\n",
    "        print('False')\n",
    "\n",
    "    #  if the string has a digit(0-9)\n",
    "    i = 0\n",
    "    while i < len(s):\n",
    "        if s[i].isdigit():\n",
    "            print('True')\n",
    "            break\n",
    "        else:\n",
    "            i += 1\n",
    "    if i == len(s):\n",
    "        print('False')\n",
    "\n",
    "    #  if the string has a lowercase(a-z)\n",
    "    i = 0\n",
    "    while i < len(s):\n",
    "        if s[i].islower():\n",
    "            print('True')\n",
    "            break\n",
    "        else:\n",
    "            i += 1\n",
    "    if i == len(s):\n",
    "        print('False')\n",
    "    \n",
    "    #  if the string has a uppercase(A-Z)\n",
    "    i = 0\n",
    "    while i < len(s):\n",
    "        if s[i].isupper():\n",
    "            print('True')\n",
    "            break\n",
    "        else:\n",
    "            i += 1\n",
    "    if i == len(s):\n",
    "        print('False')\n",
    "        \n",
    "        \n",
    "# # mtd1\n",
    "# inp = input()\n",
    "# print(any(x.isalnum() for x in inp))\n",
    "# print(any(x.isalpha() for x in inp))\n",
    "# print(any(x.isdigit() for x in inp))\n",
    "# print(any(x.islower() for x in inp))\n",
    "# print(any(x.isupper() for x in inp))\n",
    "\n",
    "\n",
    "# # mtd2\n",
    "# s =input()\n",
    "# one=False\n",
    "# two=False\n",
    "# three=False\n",
    "# four=False\n",
    "# five=False\n",
    "\n",
    "# for c in s:\n",
    "#     if not one:\n",
    "#         one=c.isalnum()\n",
    "#     if not two:\n",
    "#         two=c.isalpha()\n",
    "#     if not three:\n",
    "#         three=c.isdigit()\n",
    "#     if not four:\n",
    "#         four=c.islower()\n",
    "#     if not five:\n",
    "#         five=c.isupper()\n",
    "\n",
    "# print(one)\n",
    "# print(two)\n",
    "# print(three)\n",
    "# print(four)\n",
    "# print(five)"
   ]
  },
  {
   "cell_type": "markdown",
   "metadata": {},
   "source": [
    "### Text Alignment"
   ]
  },
  {
   "cell_type": "code",
   "execution_count": 98,
   "metadata": {
    "scrolled": true
   },
   "outputs": [
    {
     "name": "stdout",
     "output_type": "stream",
     "text": [
      "7\n",
      "      H      \n",
      "     HHH     \n",
      "    HHHHH    \n",
      "   HHHHHHH   \n",
      "  HHHHHHHHH  \n",
      " HHHHHHHHHHH \n",
      "HHHHHHHHHHHHH\n",
      "   HHHHHHH                     HHHHHHH                  \n",
      "   HHHHHHH                     HHHHHHH                  \n",
      "   HHHHHHH                     HHHHHHH                  \n",
      "   HHHHHHH                     HHHHHHH                  \n",
      "   HHHHHHH                     HHHHHHH                  \n",
      "   HHHHHHH                     HHHHHHH                  \n",
      "   HHHHHHH                     HHHHHHH                  \n",
      "   HHHHHHH                     HHHHHHH                  \n",
      "   HHHHHHHHHHHHHHHHHHHHHHHHHHHHHHHHHHH    \n",
      "   HHHHHHHHHHHHHHHHHHHHHHHHHHHHHHHHHHH    \n",
      "   HHHHHHHHHHHHHHHHHHHHHHHHHHHHHHHHHHH    \n",
      "   HHHHHHHHHHHHHHHHHHHHHHHHHHHHHHHHHHH    \n",
      "   HHHHHHH                     HHHHHHH                  \n",
      "   HHHHHHH                     HHHHHHH                  \n",
      "   HHHHHHH                     HHHHHHH                  \n",
      "   HHHHHHH                     HHHHHHH                  \n",
      "   HHHHHHH                     HHHHHHH                  \n",
      "   HHHHHHH                     HHHHHHH                  \n",
      "   HHHHHHH                     HHHHHHH                  \n",
      "   HHHHHHH                     HHHHHHH                  \n",
      "                            HHHHHHHHHHHHH \n",
      "                             HHHHHHHHHHH  \n",
      "                              HHHHHHHHH   \n",
      "                               HHHHHHH    \n",
      "                                HHHHH     \n",
      "                                 HHH      \n",
      "                                  H       \n"
     ]
    }
   ],
   "source": [
    "#Replace all ______ with rjust, ljust or center. \n",
    "\n",
    "thickness = int(input()) #This must be an odd number\n",
    "c = 'H'\n",
    "\n",
    "#Top Cone\n",
    "for i in range(thickness):\n",
    "    print((c * (2 * i + 1)).center(thickness * 2 - 1, ' '))\n",
    "\n",
    "#Top Pillars   \n",
    "for i in range(thickness+1):\n",
    "    print((c*thickness).center(thickness*2, ' ') + (c*thickness).center(thickness*6, ' '))\n",
    "\n",
    "#Middle Belt\n",
    "for i in range((thickness+1)//2):\n",
    "    print((c*thickness*5).center(thickness*6, ' '))       \n",
    "\n",
    "for i in range(thickness+1):\n",
    "    print((c*thickness).center(thickness*2, ' ') + (c*thickness).center(thickness*6, ' '))  \n",
    "\n",
    "#Bottom Cone\n",
    "for i in range(thickness):\n",
    "    print((c * (2 * (thickness - i) - 1)).center(thickness * 2, ' ').rjust(thickness * 6, ' '))\n"
   ]
  },
  {
   "cell_type": "markdown",
   "metadata": {},
   "source": [
    "### Text Wrap"
   ]
  },
  {
   "cell_type": "code",
   "execution_count": null,
   "metadata": {
    "collapsed": true
   },
   "outputs": [],
   "source": [
    "import textwrap\n",
    "# import math\n",
    "\n",
    "def wrap(string, max_width):\n",
    "\n",
    "    # num = math.ceil(len(string) / max_width) - 1\n",
    "    # target = []\n",
    "    # for i in range(num):\n",
    "    #     target.append(string[i * max_width : (i + 1) * max_width])\n",
    "\n",
    "    # target.append(string[(i + 1) * max_width:])\n",
    "    \n",
    "    # for i in target:\n",
    "    #     print(i)\n",
    "    \n",
    "    return textwrap.fill(string, max_width)\n",
    "\n",
    "\n",
    "if __name__ == '__main__':\n",
    "    string, max_width = input(), int(input())\n",
    "    result = wrap(string, max_width)\n",
    "    print(result)\n"
   ]
  },
  {
   "cell_type": "markdown",
   "metadata": {},
   "source": [
    "### Designer Door Mat"
   ]
  },
  {
   "cell_type": "code",
   "execution_count": 105,
   "metadata": {},
   "outputs": [
    {
     "name": "stdout",
     "output_type": "stream",
     "text": [
      "9 27\n",
      "------------.|.------------\n",
      "---------.|..|..|.---------\n",
      "------.|..|..|..|..|.------\n",
      "---.|..|..|..|..|..|..|.---\n",
      "----------WELCOME----------\n",
      "---.|..|..|..|..|..|..|.---\n",
      "------.|..|..|..|..|.------\n",
      "---------.|..|..|.---------\n",
      "------------.|.------------\n"
     ]
    }
   ],
   "source": [
    "N, M = input().split() #N must be an odd number, M = 3 * N\n",
    "\n",
    "N = int(N)\n",
    "M = int(M)\n",
    "c = '.|.'\n",
    "\n",
    "num = N // 2\n",
    "for i in range(num): # for i in range(1,N,2):\n",
    "    print((c * (i * 2 + 1)).center(M, '-'))\n",
    "\n",
    "print('WELCOME'.center(M, '-'))\n",
    "\n",
    "for i in range(num):\n",
    "    print((c * ((num - i) * 2 - 1)).center(M, '-'))"
   ]
  },
  {
   "cell_type": "markdown",
   "metadata": {},
   "source": [
    "### Alphabet Rangoli"
   ]
  },
  {
   "cell_type": "code",
   "execution_count": 156,
   "metadata": {
    "scrolled": true
   },
   "outputs": [
    {
     "name": "stdout",
     "output_type": "stream",
     "text": [
      "7\n",
      "------------g------------\n",
      "----------g-f-g----------\n",
      "--------g-f-e-f-g--------\n",
      "------g-f-e-d-e-f-g------\n",
      "----g-f-e-d-c-d-e-f-g----\n",
      "--g-f-e-d-c-b-c-d-e-f-g--\n",
      "g-f-e-d-c-b-a-b-c-d-e-f-g\n",
      "--g-f-e-d-c-b-c-d-e-f-g--\n",
      "----g-f-e-d-c-d-e-f-g----\n",
      "------g-f-e-d-e-f-g------\n",
      "--------g-f-e-f-g--------\n",
      "----------g-f-g----------\n",
      "------------g------------\n",
      "\n"
     ]
    }
   ],
   "source": [
    "def print_rangoli(size):\n",
    "    \n",
    "    c_line  = 'a'\n",
    "    for i in range(size - 1):\n",
    "        c_line = chr(i + 98) + '-' + c_line + '-' + chr(i + 98)\n",
    "\n",
    "    tt_line = c_line + '\\n'\n",
    "    for i in range(size - 1):\n",
    "        c_line = (c_line[:(size * 2 - 2)] + c_line[(size * 2 + 2):]).center(size * 4 - 3, '-')\n",
    "        tt_line = c_line + '\\n' + tt_line + c_line + '\\n'\n",
    "    \n",
    "    return print(tt_line)\n",
    "    \n",
    "    \n",
    "if __name__ == '__main__':\n",
    "    n = int(input())\n",
    "    print_rangoli(n)"
   ]
  },
  {
   "cell_type": "code",
   "execution_count": 342,
   "metadata": {},
   "outputs": [
    {
     "name": "stdout",
     "output_type": "stream",
     "text": [
      "5\n",
      "--------e--------\n",
      "------e-d-e------\n",
      "----e-d-c-d-e----\n",
      "--e-d-c-b-c-d-e--\n",
      "e-d-c-b-a-b-c-d-e\n",
      "--e-d-c-b-c-d-e--\n",
      "----e-d-c-d-e----\n",
      "------e-d-e------\n",
      "--------e--------\n"
     ]
    }
   ],
   "source": [
    "#mtd1\n",
    "import string\n",
    "\n",
    "\n",
    "n = int(input())\n",
    "\n",
    "mid = n-1\n",
    "for row in range(n*2-1):\n",
    "    line = \"\"\n",
    "    for col in range(n*2-1):\n",
    "        d = abs(row-mid) + abs(col-mid)\n",
    "#         print('%d %d %d' % (row, col, d))\n",
    "        if (col>0): \n",
    "            line += \"-\"\n",
    "        if d>=n: \n",
    "            line += \"-\"\n",
    "        else: \n",
    "            line += string.ascii_lowercase[d]\n",
    "    print(line)\n",
    "    "
   ]
  },
  {
   "cell_type": "markdown",
   "metadata": {},
   "source": [
    "### Capitalize"
   ]
  },
  {
   "cell_type": "code",
   "execution_count": 343,
   "metadata": {},
   "outputs": [
    {
     "data": {
      "text/plain": [
       "'Ryan Oligen Xu Teng'"
      ]
     },
     "execution_count": 343,
     "metadata": {},
     "output_type": "execute_result"
    }
   ],
   "source": [
    "def solve(s):\n",
    "    \n",
    "    s = s.lower()\n",
    "    new_s = s[0].upper()\n",
    "        \n",
    "    for i in range(1, len(s)):\n",
    "        if s[i - 1] == ' ':\n",
    "            new_s = new_s + s[i].upper()\n",
    "        else:\n",
    "            new_s = new_s + s[i]\n",
    "            \n",
    "    return new_s\n",
    "\n",
    "# list1=s.split(' ')\n",
    "# for i in list1:\n",
    "#     print(i.capitalize(),end=' ')\n",
    "# # s.capitalize() Return a capitalized version of S, i.e. make the first character have upper case and the rest lower case.\n",
    "\n",
    "solve('rYan oLigen xu tenG')"
   ]
  },
  {
   "cell_type": "code",
   "execution_count": 344,
   "metadata": {},
   "outputs": [
    {
     "data": {
      "text/plain": [
       "['rYan', 'oLigen', 'xu', 'tenG']"
      ]
     },
     "execution_count": 344,
     "metadata": {},
     "output_type": "execute_result"
    },
    {
     "name": "stdout",
     "output_type": "stream",
     "text": [
      "Ryan Oligen Xu Teng "
     ]
    }
   ],
   "source": [
    "list1='rYan oLigen xu tenG'.split(' ')\n",
    "list1\n",
    "for i in list1:\n",
    "    print(i.capitalize(),end=' ')\n"
   ]
  },
  {
   "cell_type": "markdown",
   "metadata": {},
   "source": [
    "### The Minion Game"
   ]
  },
  {
   "cell_type": "code",
   "execution_count": 174,
   "metadata": {},
   "outputs": [
    {
     "name": "stdout",
     "output_type": "stream",
     "text": [
      "alsneiwajskwof\n",
      "Stuart 63\n"
     ]
    }
   ],
   "source": [
    "def minion_game(string):\n",
    "    s = string.upper()\n",
    "    k_score = 0\n",
    "    s_score = 0\n",
    "\n",
    "    len_s = len(s)\n",
    "    for i in range(len_s):\n",
    "        if s[i] in 'AEIOU':\n",
    "            k_score = k_score + len_s - i\n",
    "        else:\n",
    "            s_score = s_score + len_s - i\n",
    "\n",
    "    if k_score > s_score:\n",
    "        return print('Kevin %d' % k_score)\n",
    "    elif k_score == s_score:\n",
    "        return print('Draw')\n",
    "    else:\n",
    "        return print('Stuart %d' % s_score) # return print('Stuart', s_score)\n",
    "\n",
    "if __name__ == '__main__':\n",
    "    s = input()\n",
    "    minion_game(s)"
   ]
  },
  {
   "cell_type": "markdown",
   "metadata": {},
   "source": [
    "### Merge the Tools!"
   ]
  },
  {
   "cell_type": "code",
   "execution_count": 196,
   "metadata": {},
   "outputs": [
    {
     "name": "stdout",
     "output_type": "stream",
     "text": [
      "AABCAAADA\n",
      "3\n",
      "AB\n",
      "CA\n",
      "AD\n",
      "\n"
     ]
    }
   ],
   "source": [
    "def merge_the_tools(string, k):\n",
    "    \n",
    "    substr_num = int(len(string) / k)\n",
    "    string_fin = ''\n",
    "    \n",
    "#     for i in range(0, len(string), k):\n",
    "#         substr_org = string[i: (i + k)]\n",
    "    \n",
    "    for i in range(substr_num):\n",
    "        substr_org = string[i * k:(i + 1) * k]\n",
    "        substr_fin = ''\n",
    "        for i in substr_org:\n",
    "            if i not in substr_fin:\n",
    "                substr_fin = substr_fin + i\n",
    "        string_fin = string_fin + substr_fin + '\\n'\n",
    "\n",
    "    return print(string_fin)\n",
    "\n",
    "\n",
    "if __name__ == '__main__':\n",
    "    string, k = input(), int(input())\n",
    "    merge_the_tools(string, k)\n",
    "    \n",
    "    \n",
    "    \n",
    "# # mtd1\n",
    "# a = input()\n",
    "# K = int(input())\n",
    "# for n in range(len(a)//K):\n",
    "#     s = set([])\n",
    "#     out = \"\"\n",
    "#     for i in range(K*n, K*(n+1)):\n",
    "#         if a[i] not in s:\n",
    "#             s.add(a[i])\n",
    "#             out += a[i]\n",
    "#     print(out)"
   ]
  },
  {
   "cell_type": "markdown",
   "metadata": {},
   "source": [
    "## Itertools"
   ]
  },
  {
   "cell_type": "markdown",
   "metadata": {},
   "source": [
    "### itertools.product()"
   ]
  },
  {
   "cell_type": "code",
   "execution_count": 249,
   "metadata": {},
   "outputs": [
    {
     "name": "stdout",
     "output_type": "stream",
     "text": [
      "1 2 3\n",
      "3 2 1\n",
      "(1, 3) (1, 2) (1, 1) (2, 3) (2, 2) (2, 1) (3, 3) (3, 2) (3, 1)\n"
     ]
    }
   ],
   "source": [
    "from itertools import product\n",
    "\n",
    "# cartesian product 笛卡尔积\n",
    "# print list(product([1,2,3],repeat = 2))\n",
    "# print list(product([1,2,3],[3,4]))\n",
    "\n",
    "# A = [[1,2,3],[3,4,5]]\n",
    "# print list(product(*A))\n",
    "\n",
    "# B = [[1,2,3],[3,4,5],[7,8]]\n",
    "# print list(product(*B))\n",
    "\n",
    "\n",
    "a = list(map(int, input().split()))\n",
    "b = list(map(int, input().split()))\n",
    "prod_ab = list(product(a, b))\n",
    "\n",
    "for i in prod_ab[:-1]:\n",
    "    print(i, end = ' ')\n",
    "print(prod_ab[-1])\n",
    "\n",
    "# for i in l:\n",
    "#     print(i,end = ' ')\n",
    "\n",
    "# print(*list(product(a, b)))\n",
    "# print(' '.join([str(i) for i in list(product(a,b))]))"
   ]
  },
  {
   "cell_type": "markdown",
   "metadata": {},
   "source": [
    "### itertools.permutations()"
   ]
  },
  {
   "cell_type": "code",
   "execution_count": null,
   "metadata": {
    "collapsed": true
   },
   "outputs": [],
   "source": [
    "from itertools import permutations\n",
    "\n",
    "# >>> print permutations(['1','2','3'])\n",
    "# <itertools.permutations object at 0x02A45210>\n",
    "# >>> \n",
    "# >>> print list(permutations(['1','2','3']))\n",
    "# [('1', '2', '3'), ('1', '3', '2'), ('2', '1', '3'), ('2', '3', '1'), ('3', '1', '2'), ('3', '2', '1')]\n",
    "# >>> \n",
    "# >>> print list(permutations(['1','2','3'],2))\n",
    "# [('1', '2'), ('1', '3'), ('2', '1'), ('2', '3'), ('3', '1'), ('3', '2')]\n",
    "# >>>\n",
    "# >>> print list(permutations('abc',3))\n",
    "# [('a', 'b', 'c'), ('a', 'c', 'b'), ('b', 'a', 'c'), ('b', 'c', 'a'), ('c', 'a', 'b'), ('c', 'b', 'a')]\n",
    "\n",
    "\n",
    "stringA, k = input().split()\n",
    "k = int(k)\n",
    "\n",
    "pm_list = list(permutations(stringA, k))\n",
    "pm_list.sort()\n",
    "\n",
    "for item in pm_list:\n",
    "    s = ''\n",
    "    for j in range(k):\n",
    "        s = s + item[j]\n",
    "    print(s)\n",
    "\n",
    "\n",
    "    \n",
    "# for item in pm_list:\n",
    "#     print(''.join(item))\n"
   ]
  },
  {
   "cell_type": "markdown",
   "metadata": {},
   "source": [
    "## Math"
   ]
  },
  {
   "cell_type": "markdown",
   "metadata": {},
   "source": [
    "### Polar Coordinates"
   ]
  },
  {
   "cell_type": "code",
   "execution_count": 2,
   "metadata": {},
   "outputs": [
    {
     "name": "stdout",
     "output_type": "stream",
     "text": [
      "3-4j\n",
      "5.0\n",
      "-0.9272952180016122\n"
     ]
    }
   ],
   "source": [
    "import cmath\n",
    "\n",
    "c = complex(input())\n",
    "\n",
    "print(abs(c))\n",
    "print(cmath.phase(c))\n",
    "\n",
    "\n",
    "\n",
    "\n",
    "# # mtd2\n",
    "# print(*cmath.polar(complex(input())), sep='\\n')\n",
    "\n",
    "# # mtd1\n",
    "# import cmath\n",
    "\n",
    "# N = input()\n",
    "\n",
    "# if N[0] == '-':\n",
    "#     if '-' in N[1:]:\n",
    "#         N = N.split('-')\n",
    "#         Re = -float(N[1])\n",
    "#         Im = -float(N[2][:-1])\n",
    "#     else:\n",
    "#         N = N.split('+')\n",
    "#         Re = float(N[0])\n",
    "#         Im = float(N[1][:-1])\n",
    "# else:\n",
    "#     if '-' in N:\n",
    "#         N = N.split('-')\n",
    "#         Re = float(N[0])\n",
    "#         Im = -float(N[1][:-1])\n",
    "#     else:\n",
    "#         N = N.split('+')\n",
    "#         Re = float(N[0])\n",
    "#         Im = float(N[1][:-1])\n",
    "\n",
    "# C = complex(Re, Im)\n",
    "# print(abs(C))\n",
    "# print(cmath.phase(C))"
   ]
  },
  {
   "cell_type": "markdown",
   "metadata": {},
   "source": [
    "### Find Angle MBC"
   ]
  },
  {
   "cell_type": "code",
   "execution_count": 15,
   "metadata": {},
   "outputs": [
    {
     "name": "stdout",
     "output_type": "stream",
     "text": [
      "10\n",
      "12\n",
      "40°\n"
     ]
    }
   ],
   "source": [
    "import math\n",
    "\n",
    "c = int(input())\n",
    "a = int(input())\n",
    "\n",
    "alpha = math.atan(c / a) / 2 / math.pi * 360\n",
    "# math.degrees(math.atan(c / a))\n",
    "\n",
    "print(str(round(alpha)) + '°')"
   ]
  },
  {
   "cell_type": "markdown",
   "metadata": {},
   "source": [
    "### Mod Divmod"
   ]
  },
  {
   "cell_type": "code",
   "execution_count": 39,
   "metadata": {},
   "outputs": [
    {
     "name": "stdout",
     "output_type": "stream",
     "text": [
      "177\n",
      "10\n",
      "17\n",
      "7\n",
      "(17, 7)\n"
     ]
    }
   ],
   "source": [
    "a = int(input())\n",
    "b = int(input())\n",
    "\n",
    "print(a // b) # quotient\n",
    "print(a % b) # modulo\n",
    "print(divmod(a, b)) "
   ]
  },
  {
   "cell_type": "markdown",
   "metadata": {},
   "source": [
    "### Power - Mod Power"
   ]
  },
  {
   "cell_type": "code",
   "execution_count": 41,
   "metadata": {},
   "outputs": [
    {
     "name": "stdout",
     "output_type": "stream",
     "text": [
      "3\n",
      "4\n",
      "5\n",
      "81\n",
      "1\n"
     ]
    }
   ],
   "source": [
    "a = int(input())\n",
    "b = int(input())\n",
    "m = int(input())\n",
    "print(pow(a, b)) # a ** b\n",
    "print(pow(a, b, m)) # a** b % m"
   ]
  },
  {
   "cell_type": "markdown",
   "metadata": {},
   "source": [
    "### Integers Come In All Sizes"
   ]
  },
  {
   "cell_type": "code",
   "execution_count": 42,
   "metadata": {},
   "outputs": [
    {
     "name": "stdout",
     "output_type": "stream",
     "text": [
      "9\n",
      "29\n",
      "7\n",
      "27\n",
      "4710194409608608369201743232\n"
     ]
    }
   ],
   "source": [
    "a = int(input())\n",
    "b = int(input())\n",
    "c = int(input())\n",
    "d = int(input())\n",
    "print(pow(a, b) + pow(c, d)) # a ** b + c ** d"
   ]
  },
  {
   "cell_type": "markdown",
   "metadata": {},
   "source": [
    "### Triangle Quest"
   ]
  },
  {
   "cell_type": "code",
   "execution_count": 43,
   "metadata": {
    "scrolled": true
   },
   "outputs": [
    {
     "name": "stdout",
     "output_type": "stream",
     "text": [
      "5\n",
      "1\n",
      "22\n",
      "333\n",
      "4444\n"
     ]
    }
   ],
   "source": [
    "for i in range(1,int(input())):\n",
    "    print(10 ** i // 9 * i)"
   ]
  },
  {
   "cell_type": "markdown",
   "metadata": {
    "collapsed": true
   },
   "source": [
    "### Triangle Quest 2"
   ]
  },
  {
   "cell_type": "code",
   "execution_count": 26,
   "metadata": {},
   "outputs": [
    {
     "name": "stdout",
     "output_type": "stream",
     "text": [
      "5\n",
      "1\n",
      "121\n",
      "12321\n",
      "1234321\n",
      "123454321\n"
     ]
    }
   ],
   "source": [
    "for i in range(1,int(input())+1): #More than 2 lines will result in 0 score. Do not leave a blank line also\n",
    "    print(\"\".join(map(str, (list(range(1, i)) + list(range(i, 0, -1))))))\n",
    "    \n",
    "# for i in range(1,int(input())+1):\n",
    "#      print((10**i//9)**2)\n",
    "\n",
    "# for i in range(1,int(raw_input())+1): #More than 2 lines will result in 0 score. Do not leave a blank line also\n",
    "#     print  reduce(lambda x, y: x + (10 ** (y - 1)), range(1, i + 1))**2"
   ]
  },
  {
   "cell_type": "markdown",
   "metadata": {},
   "source": [
    "## Sets"
   ]
  },
  {
   "cell_type": "markdown",
   "metadata": {},
   "source": [
    "### introduction to Sets"
   ]
  },
  {
   "cell_type": "code",
   "execution_count": null,
   "metadata": {
    "collapsed": true
   },
   "outputs": [],
   "source": [
    "# >>> print set()\n",
    "# set([])\n",
    "\n",
    "# >>> print set('HackerRank')\n",
    "# set(['a', 'c', 'e', 'H', 'k', 'n', 'r', 'R'])\n",
    "\n",
    "# >>> print set([1,2,1,2,3,4,5,6,0,9,12,22,3])\n",
    "# set([0, 1, 2, 3, 4, 5, 6, 9, 12, 22])\n",
    "\n",
    "# >>> print set((1,2,3,4,5,5))\n",
    "# set([1, 2, 3, 4, 5])\n",
    "\n",
    "# >>> print set(set(['H','a','c','k','e','r','r','a','n','k']))\n",
    "# set(['a', 'c', 'r', 'e', 'H', 'k', 'n'])\n",
    "\n",
    "# >>> print set({'Hacker' : 'DOSHI', 'Rank' : 616 })\n",
    "# set(['Hacker', 'Rank'])\n",
    "\n",
    "# >>> print set(enumerate(['H','a','c','k','e','r','r','a','n','k']))\n",
    "\n",
    "     \n",
    "def average(array):\n",
    "    return sum(set(array)) / len(set(array))\n",
    "\n",
    "if __name__ == '__main__':\n",
    "    n = int(input())\n",
    "    arr = list(map(int, input().split()))\n",
    "    result = average(arr)\n",
    "    print(result)"
   ]
  },
  {
   "cell_type": "code",
   "execution_count": null,
   "metadata": {
    "collapsed": true
   },
   "outputs": [],
   "source": [
    "myset = {1, 2} # Directly assigning values to a set\n",
    "myset = set()  # Initializing a set\n",
    "myset = set(['a', 'b']) # Creating a set from a list\n",
    "myset\n",
    "\n",
    "myset.add('c')\n",
    "myset.add('a') # As 'a' already exists in the set, nothing happens\n",
    "myset.add((5, 4))\n",
    "myset\n",
    "\n",
    "myset.update([1, 2, 3, 4]) # update() only works for iterable objects\n",
    "myset.update({1, 7, 8})\n",
    "myset.update({1, 6}, [5, 13])\n",
    "myset\n",
    "\n",
    "myset.discard(10)\n",
    "myset\n",
    "myset.remove(13)\n",
    "myset\n",
    "\n",
    "a = {2, 4, 5, 9}\n",
    "b = {2, 4, 11, 12}\n",
    "a.union(b) # Values which exist in a or b\n",
    "a.intersection(b) # Values which exist in a and b\n",
    "a.difference(b) # Values which exist in a but not in b"
   ]
  },
  {
   "cell_type": "code",
   "execution_count": null,
   "metadata": {
    "collapsed": true
   },
   "outputs": [],
   "source": [
    "n = int(input())\n",
    "stampSet = set()\n",
    "for i in range(n):\n",
    "    stamp = input()\n",
    "    stampSet.add(stamp)\n",
    "\n",
    "print(len(stampSet))\n"
   ]
  },
  {
   "cell_type": "code",
   "execution_count": null,
   "metadata": {
    "collapsed": true
   },
   "outputs": [],
   "source": [
    "m = int(input())\n",
    "a = set(list(map(int, input().split())))\n",
    "n = int(input())\n",
    "b = set(list(map(int, input().split())))\n",
    "c = (a - b).union(b - a)\n",
    "d = list(c)\n",
    "d.sort()\n",
    "for i in d:\n",
    "    print(i)"
   ]
  },
  {
   "cell_type": "markdown",
   "metadata": {},
   "source": [
    "## Date and Time"
   ]
  },
  {
   "cell_type": "markdown",
   "metadata": {},
   "source": [
    "### Calendar Module"
   ]
  },
  {
   "cell_type": "markdown",
   "metadata": {},
   "source": [
    "[calendar functions](https://docs.python.org/2/library/calendar.html#calendar.setfirstweekday)"
   ]
  },
  {
   "cell_type": "code",
   "execution_count": 9,
   "metadata": {
    "scrolled": true
   },
   "outputs": [
    {
     "name": "stdout",
     "output_type": "stream",
     "text": [
      "                                  2019\n",
      "\n",
      "      January                   February                   March\n",
      "Su Mo Tu We Th Fr Sa      Su Mo Tu We Th Fr Sa      Su Mo Tu We Th Fr Sa\n",
      "       1  2  3  4  5                      1  2                      1  2\n",
      " 6  7  8  9 10 11 12       3  4  5  6  7  8  9       3  4  5  6  7  8  9\n",
      "13 14 15 16 17 18 19      10 11 12 13 14 15 16      10 11 12 13 14 15 16\n",
      "20 21 22 23 24 25 26      17 18 19 20 21 22 23      17 18 19 20 21 22 23\n",
      "27 28 29 30 31            24 25 26 27 28            24 25 26 27 28 29 30\n",
      "                                                    31\n",
      "\n",
      "       April                      May                       June\n",
      "Su Mo Tu We Th Fr Sa      Su Mo Tu We Th Fr Sa      Su Mo Tu We Th Fr Sa\n",
      "    1  2  3  4  5  6                1  2  3  4                         1\n",
      " 7  8  9 10 11 12 13       5  6  7  8  9 10 11       2  3  4  5  6  7  8\n",
      "14 15 16 17 18 19 20      12 13 14 15 16 17 18       9 10 11 12 13 14 15\n",
      "21 22 23 24 25 26 27      19 20 21 22 23 24 25      16 17 18 19 20 21 22\n",
      "28 29 30                  26 27 28 29 30 31         23 24 25 26 27 28 29\n",
      "                                                    30\n",
      "\n",
      "        July                     August                  September\n",
      "Su Mo Tu We Th Fr Sa      Su Mo Tu We Th Fr Sa      Su Mo Tu We Th Fr Sa\n",
      "    1  2  3  4  5  6                   1  2  3       1  2  3  4  5  6  7\n",
      " 7  8  9 10 11 12 13       4  5  6  7  8  9 10       8  9 10 11 12 13 14\n",
      "14 15 16 17 18 19 20      11 12 13 14 15 16 17      15 16 17 18 19 20 21\n",
      "21 22 23 24 25 26 27      18 19 20 21 22 23 24      22 23 24 25 26 27 28\n",
      "28 29 30 31               25 26 27 28 29 30 31      29 30\n",
      "\n",
      "      October                   November                  December\n",
      "Su Mo Tu We Th Fr Sa      Su Mo Tu We Th Fr Sa      Su Mo Tu We Th Fr Sa\n",
      "       1  2  3  4  5                      1  2       1  2  3  4  5  6  7\n",
      " 6  7  8  9 10 11 12       3  4  5  6  7  8  9       8  9 10 11 12 13 14\n",
      "13 14 15 16 17 18 19      10 11 12 13 14 15 16      15 16 17 18 19 20 21\n",
      "20 21 22 23 24 25 26      17 18 19 20 21 22 23      22 23 24 25 26 27 28\n",
      "27 28 29 30 31            24 25 26 27 28 29 30      29 30 31\n",
      "\n"
     ]
    }
   ],
   "source": [
    "import calendar\n",
    "\n",
    "print(calendar.TextCalendar(firstweekday=6).formatyear(2019))"
   ]
  },
  {
   "cell_type": "code",
   "execution_count": 13,
   "metadata": {},
   "outputs": [
    {
     "name": "stdout",
     "output_type": "stream",
     "text": [
      "2019 01 02\n",
      "WEDNESDDAY\n"
     ]
    }
   ],
   "source": [
    "import calendar\n",
    "\n",
    "m, d, y = map(int, input().split())\n",
    "\n",
    "wd = calendar.weekday(y, m, d)\n",
    "if wd == 0:\n",
    "    print('MONDAY')\n",
    "elif wd == 1:\n",
    "    print('TUESDAY')\n",
    "elif wd == 2:\n",
    "    print('WEDNESDAY')\n",
    "elif wd == 3:\n",
    "    print('THURSDAY')\n",
    "elif wd == 4:\n",
    "    print('FRIDAY')\n",
    "elif wd == 5:\n",
    "    print('SATURDAY')\n",
    "else:\n",
    "    print('SUNDAY') \n",
    "\n",
    "# days = {0:'MONDAY',1:'TUESDAY',2:'WEDNESDAY',3:'THURSDAY',4:'FRIDAY',5:'SATURDAY',6:'SUNDAY'}\n",
    "# print(days[calendar.weekday(y,m,d)])    \n",
    "\n",
    "# week   = ['Sunday', 'Monday', 'Tuesday', 'Wednesday', 'Thursday', 'Friday', 'Saturday']\n",
    "# print(week[(calendar.weekday(y, m, d) % 7].upper())\n",
    "\n",
    "# print(calendar.day_name[wd].upper())"
   ]
  },
  {
   "cell_type": "markdown",
   "metadata": {},
   "source": [
    "## Collections"
   ]
  },
  {
   "cell_type": "markdown",
   "metadata": {},
   "source": [
    "### collections.Counter()"
   ]
  },
  {
   "cell_type": "code",
   "execution_count": 406,
   "metadata": {},
   "outputs": [
    {
     "name": "stdout",
     "output_type": "stream",
     "text": [
      "10\n",
      "2 3 4 5 6 8 7 6 5 18\n",
      "6\n",
      "6 55\n",
      "6 45\n",
      "6 55\n",
      "4 40\n",
      "18 60\n",
      "10 50\n"
     ]
    },
    {
     "data": {
      "text/plain": [
       "200"
      ]
     },
     "execution_count": 406,
     "metadata": {},
     "output_type": "execute_result"
    }
   ],
   "source": [
    "from collections import Counter\n",
    "\n",
    "\n",
    "# >>> myList = [1,1,2,3,4,5,3,2,3,4,2,1,2,3]\n",
    "# >>> print Counter(myList)\n",
    "# Counter({2: 4, 3: 4, 1: 3, 4: 2, 5: 1})\n",
    "\n",
    "# >>> print Counter(myList).items()\n",
    "# [(1, 3), (2, 4), (3, 4), (4, 2), (5, 1)]\n",
    " \n",
    "# >>> print Counter(myList).keys()\n",
    "# [1, 2, 3, 4, 5]\n",
    " \n",
    "# >>> print Counter(myList).values()\n",
    "# [3, 4, 4, 2, 1]\n",
    "\n",
    "\n",
    "# number of shoes\n",
    "shoe_num = int(input())\n",
    "# size of shoes\n",
    "shoe_size = list(map(int, input().split()))\n",
    "shoe_counter = Counter(shoe_size)\n",
    "# number of customers\n",
    "cm_num = int(input())\n",
    "# customerg payment\n",
    "\n",
    "earn = 0\n",
    "for i in range(cm_num):\n",
    "    payment = list(map(int, input().split()))\n",
    "    if payment[0] in shoe_counter:\n",
    "        if shoe_counter[payment[0]] > 0:\n",
    "#     if payment[0] in shoe_counter and shoe_counter[payment[0]] > 0:\n",
    "            earn += payment[1]\n",
    "            shoe_counter[payment[0]] -= 1\n",
    "# # mtd1\n",
    "# for i in range(cm_num):\n",
    "#     sz, py = map(int, input().split())\n",
    "#     if shoe_counter[sz]:\n",
    "#         shoe_counter[sz] -= 1\n",
    "#         earn += py\n",
    "\n",
    "\n",
    "# # mtd2\n",
    "# for i in range(cm_num):\n",
    "#     sz, py = map(int, input().split())\n",
    "#     if sz in shoe_counter.elements(): # shoe_counter[sz]值减少到0，则elements不再出现\n",
    "#         shoe_counter[sz] -= 1\n",
    "#         earn += py\n",
    "\n",
    "earn"
   ]
  },
  {
   "cell_type": "markdown",
   "metadata": {},
   "source": [
    "### DefaultDict Tutorial"
   ]
  },
  {
   "cell_type": "code",
   "execution_count": 2,
   "metadata": {},
   "outputs": [
    {
     "name": "stdout",
     "output_type": "stream",
     "text": [
      "('python', ['awesome', 'language'])\n",
      "('something-else', ['not relevant'])\n"
     ]
    }
   ],
   "source": [
    "from collections import defaultdict\n",
    "d = defaultdict(list)\n",
    "d['python'].append(\"awesome\")\n",
    "d['something-else'].append(\"not relevant\")\n",
    "d['python'].append(\"language\")\n",
    "for i in d.items():\n",
    "    print(i)"
   ]
  },
  {
   "cell_type": "code",
   "execution_count": 270,
   "metadata": {},
   "outputs": [
    {
     "name": "stdout",
     "output_type": "stream",
     "text": [
      "5 2\n",
      "a\n",
      "a\n",
      "b\n",
      "a\n",
      "b\n",
      "a\n",
      "b\n",
      "1 2 4\n",
      "3 5\n"
     ]
    }
   ],
   "source": [
    "# The first line contains integers,  and  separated by a space. \n",
    "# The next  lines contains the words belonging to group . \n",
    "# The next  lines contains the words belonging to group .\n",
    "\n",
    "n, m = map(int, input().split())\n",
    "\n",
    "\n",
    "groupA = []\n",
    "for i in range(n):\n",
    "    groupA.append(input())\n",
    "    \n",
    "groupB = []\n",
    "for j in range(m):\n",
    "    groupB.append(input())\n",
    "\n",
    "\n",
    "ind = []\n",
    "\n",
    "for str_i in groupB:\n",
    "    ind_inner = []\n",
    "    if str_i not in groupA:\n",
    "        ind_inner.append(-1)\n",
    "    else:\n",
    "        for k in range(n):\n",
    "            if str_i == groupA[k]:\n",
    "                ind_inner.append(k + 1)\n",
    "    ind.append(ind_inner)\n",
    "\n",
    "for i in ind:\n",
    "    for j in i[:-1]:\n",
    "        print(j, end = ' ')\n",
    "    print(i[-1])"
   ]
  },
  {
   "cell_type": "code",
   "execution_count": 65,
   "metadata": {},
   "outputs": [
    {
     "name": "stdout",
     "output_type": "stream",
     "text": [
      "5 2\n",
      "a\n",
      "a\n",
      "b\n",
      "a\n",
      "b\n",
      "a\n",
      "1 2 4\n",
      "b\n",
      "3 5\n"
     ]
    }
   ],
   "source": [
    "from collections import defaultdict\n",
    "n, m = input().split()\n",
    "d = defaultdict(list)\n",
    "\n",
    "for i in range(int(n)):\n",
    "    d[input()].append(str(i+1))\n",
    "    \n",
    "for _ in range(int(m)):\n",
    "    i = input()\n",
    "    print(' '.join(d[i])) if d[i] else print(-1)"
   ]
  },
  {
   "cell_type": "markdown",
   "metadata": {
    "collapsed": true
   },
   "source": [
    "### collections.namedtuple()"
   ]
  },
  {
   "cell_type": "code",
   "execution_count": 66,
   "metadata": {
    "scrolled": true
   },
   "outputs": [
    {
     "name": "stdout",
     "output_type": "stream",
     "text": [
      "11\n",
      "Car(Price=100000, Mileage=30, Colour='Cyan', Class='Y')\n"
     ]
    },
    {
     "data": {
      "text/plain": [
       "Car(Price=100000, Mileage=30, Colour='Cyan', Class='Y')"
      ]
     },
     "execution_count": 66,
     "metadata": {},
     "output_type": "execute_result"
    },
    {
     "name": "stdout",
     "output_type": "stream",
     "text": [
      "Y\n",
      "5\n",
      "ID MARKS NAME CLASS\n",
      "1 97 raymond 7\n",
      "2 50 steven 4\n",
      "3 91 adrian 9\n",
      "4 72 stewart 5\n",
      "5 80 peter 6\n",
      "78.00\n"
     ]
    }
   ],
   "source": [
    "from collections import namedtuple\n",
    "Point = namedtuple('Point','x,y')\n",
    "pt1 = Point(1,2)\n",
    "pt2 = Point(3,4)\n",
    "dot_product = ( pt1.x * pt2.x ) +( pt1.y * pt2.y )\n",
    "print(dot_product)\n",
    "\n",
    "Car = namedtuple('Car','Price Mileage Colour Class')\n",
    "xyz = Car(Price = 100000, Mileage = 30, Colour = 'Cyan', Class = 'Y')\n",
    "print(xyz)\n",
    "Car(Price=100000, Mileage=30, Colour='Cyan', Class='Y')\n",
    "print(xyz.Class)\n",
    "\n",
    "\n",
    "#  calculate the average marks of the students\n",
    "n = int(input())\n",
    "Student = namedtuple('Student', input())\n",
    "sum_mark = 0\n",
    "for i in range(n):\n",
    "    a = Student(*input().split())\n",
    "    sum_mark += int(a.MARKS)\n",
    "    \n",
    "# sum(float(Student(*input().strip().split()).MARKS) for _ in range(n))/n\n",
    "\n",
    "print('%.2f' % (sum_mark / n))"
   ]
  },
  {
   "cell_type": "markdown",
   "metadata": {},
   "source": [
    "### Collection.deque()"
   ]
  },
  {
   "cell_type": "code",
   "execution_count": 74,
   "metadata": {},
   "outputs": [
    {
     "name": "stdout",
     "output_type": "stream",
     "text": [
      "6\n",
      "append 1\n",
      "append 2\n",
      "append 3\n",
      "appendleft 4\n",
      "pop\n"
     ]
    },
    {
     "data": {
      "text/plain": [
       "'3'"
      ]
     },
     "execution_count": 74,
     "metadata": {},
     "output_type": "execute_result"
    },
    {
     "name": "stdout",
     "output_type": "stream",
     "text": [
      "popleft\n"
     ]
    },
    {
     "data": {
      "text/plain": [
       "'4'"
      ]
     },
     "execution_count": 74,
     "metadata": {},
     "output_type": "execute_result"
    },
    {
     "name": "stdout",
     "output_type": "stream",
     "text": [
      "deque(['1', '2'])\n"
     ]
    }
   ],
   "source": [
    "# >>> from collections import deque\n",
    "# >>> d = deque()\n",
    "# >>> d.append(1)\n",
    "# >>> print d\n",
    "# deque([1])\n",
    "# >>> d.appendleft(2)\n",
    "# >>> print d\n",
    "# deque([2, 1])\n",
    "# >>> d.clear()\n",
    "# >>> print d\n",
    "# deque([])\n",
    "# >>> d.extend('1')\n",
    "# >>> print d\n",
    "# deque(['1'])\n",
    "# >>> d.extendleft('234')\n",
    "# >>> print d\n",
    "# deque(['4', '3', '2', '1'])\n",
    "# >>> d.count('1')\n",
    "# 1\n",
    "# >>> d.pop()\n",
    "# '1'\n",
    "# >>> print d\n",
    "# deque(['4', '3', '2'])\n",
    "# >>> d.popleft()\n",
    "# '4'\n",
    "# >>> print d\n",
    "# deque(['3', '2'])\n",
    "# >>> d.extend('7896')\n",
    "# >>> print d\n",
    "# deque(['3', '2', '7', '8', '9', '6'])\n",
    "# >>> d.remove('2')\n",
    "# >>> print d\n",
    "# deque(['3', '7', '8', '9', '6'])\n",
    "# >>> d.reverse()\n",
    "# >>> print d\n",
    "# deque(['6', '9', '8', '7', '3'])\n",
    "# >>> d.rotate(3)\n",
    "# >>> print d\n",
    "# deque(['8', '7', '3', '6', '9'])\n",
    "\n",
    "\n",
    "# Perform append, pop, popleft and appendleft methods on an empty deque\n",
    "from collections import deque\n",
    "d = deque()\n",
    "n = int(input())\n",
    "for i in range(n):\n",
    "    a = input().split()\n",
    "    if a[0] == 'append':\n",
    "        d.append(a[1])\n",
    "    elif a[0] == 'pop':\n",
    "        d.pop()\n",
    "    elif a[0] == 'popleft':\n",
    "        d.popleft()\n",
    "    elif a[0] == 'appendleft':\n",
    "        d.appendleft(a[1])\n",
    "\n",
    "print(' '.join(d))"
   ]
  },
  {
   "cell_type": "markdown",
   "metadata": {},
   "source": [
    "### Company Logo"
   ]
  },
  {
   "cell_type": "code",
   "execution_count": 151,
   "metadata": {},
   "outputs": [
    {
     "name": "stdout",
     "output_type": "stream",
     "text": [
      "google\n",
      "g 2\n",
      "o 2\n",
      "e 1\n"
     ]
    }
   ],
   "source": [
    "# Print the three most common characters along with their occurrence count each on a separate line. \n",
    "# Sort output in descending order of occurrence count. \n",
    "# If the occurrence count is the same, sort the characters in alphabetical order.\n",
    "\n",
    "s = input().strip()\n",
    "from collections import Counter\n",
    "s1 = Counter(s)\n",
    "\n",
    "k = list(s1.keys())\n",
    "v = list(s1.values())\n",
    "\n",
    "import pandas as pd\n",
    "df = pd.DataFrame({'k':k, 'v':v}, dtype = str)\n",
    "\n",
    "df1 = df.sort_values(by = ['v', 'k'], ascending = (False, True))\n",
    "\n",
    "\n",
    "\n",
    "for i in range(3):\n",
    "    print(' '.join(df1.iloc[i]))"
   ]
  },
  {
   "cell_type": "markdown",
   "metadata": {},
   "source": [
    "### Piling Up!"
   ]
  },
  {
   "cell_type": "code",
   "execution_count": 150,
   "metadata": {},
   "outputs": [
    {
     "name": "stdout",
     "output_type": "stream",
     "text": [
      "2\n",
      "6\n",
      "4 3 2 1 3 4\n"
     ]
    },
    {
     "data": {
      "text/plain": [
       "4"
      ]
     },
     "execution_count": 150,
     "metadata": {},
     "output_type": "execute_result"
    },
    {
     "data": {
      "text/plain": [
       "4"
      ]
     },
     "execution_count": 150,
     "metadata": {},
     "output_type": "execute_result"
    },
    {
     "data": {
      "text/plain": [
       "3"
      ]
     },
     "execution_count": 150,
     "metadata": {},
     "output_type": "execute_result"
    },
    {
     "data": {
      "text/plain": [
       "3"
      ]
     },
     "execution_count": 150,
     "metadata": {},
     "output_type": "execute_result"
    },
    {
     "data": {
      "text/plain": [
       "2"
      ]
     },
     "execution_count": 150,
     "metadata": {},
     "output_type": "execute_result"
    },
    {
     "data": {
      "text/plain": [
       "1"
      ]
     },
     "execution_count": 150,
     "metadata": {},
     "output_type": "execute_result"
    },
    {
     "name": "stdout",
     "output_type": "stream",
     "text": [
      "Yes\n",
      "3\n",
      "1 3 2\n"
     ]
    },
    {
     "data": {
      "text/plain": [
       "2"
      ]
     },
     "execution_count": 150,
     "metadata": {},
     "output_type": "execute_result"
    },
    {
     "name": "stdout",
     "output_type": "stream",
     "text": [
      "No\n"
     ]
    }
   ],
   "source": [
    "t = int(input())\n",
    "for i in range(t):\n",
    "    n = int(input())\n",
    "    sideLen = list(map(int, input().split()))\n",
    "    \n",
    "    if sideLen[0] > sideLen[-1]:\n",
    "        cube1 = sideLen[0]\n",
    "        sideLen.pop(0)\n",
    "    else:\n",
    "        cube1 = sideLen[-1]\n",
    "        sideLen.pop(-1)\n",
    "    \n",
    "    for i in range(n - 1):\n",
    "        if sideLen[0] > sideLen[-1]:\n",
    "            if sideLen[0] > cube1:\n",
    "                print('No')\n",
    "                break\n",
    "            else:\n",
    "                cube1 = sideLen[0]\n",
    "                sideLen.pop(0)\n",
    "        else:\n",
    "            if sideLen[-1] > cube1:\n",
    "                print('No')\n",
    "                break\n",
    "            else:\n",
    "                cube1 = sideLen[-1]\n",
    "                sideLen.pop(-1)\n",
    "    if i == (n - 2):\n",
    "        print('Yes')\n",
    "    "
   ]
  },
  {
   "cell_type": "markdown",
   "metadata": {},
   "source": [
    "### Word Order"
   ]
  },
  {
   "cell_type": "code",
   "execution_count": 138,
   "metadata": {},
   "outputs": [
    {
     "name": "stdout",
     "output_type": "stream",
     "text": [
      "4\n",
      "bcdef\n",
      "abcdefg\n",
      "bcde\n",
      "bcdef\n",
      "2 1 1 "
     ]
    }
   ],
   "source": [
    "# # Enter your code here. Read input from STDIN. Print output to STDOUT\n",
    "# if __name__ == '__main__':\n",
    "#     n = int(input())\n",
    "#     words = []\n",
    "#     for _ in range(n):\n",
    "#         word = input()\n",
    "#         words.append(word)\n",
    "\n",
    "# # line1\n",
    "# unique_word = []\n",
    "\n",
    "# for word in words:\n",
    "#     if word not in unique_word:\n",
    "#         unique_word.append(word)\n",
    "\n",
    "# print(len(unique_word))\n",
    "\n",
    "# # line2\n",
    "# count_words = []\n",
    "# for word in unique_word:\n",
    "#     count_words.append(words.count(word))\n",
    "    \n",
    "# for i in range(len(unique_word) - 1):\n",
    "#     print(count_words[i], end=' ')\n",
    "# print(count_words[-1])\n",
    "\n",
    "\n",
    "# given n words. Some words may repeat. For each word, output its number of occurrences. The output order should correspond with the input order of appearance of the word\n",
    "# from collections import Counter\n",
    "\n",
    "n = int(input())\n",
    "words = []\n",
    "for i in range(n):\n",
    "    words.append(input())\n",
    "\n",
    "word_dict = Counter(words)\n",
    "\n",
    "print(len(word_dict))\n",
    "for i in word_dict.values():\n",
    "    print(i, end = ' ')\n",
    "\n",
    "# # mth1    \n",
    "# from collections import OrderedDict\n",
    "# d=OrderedDict()\n",
    "# n=int(input())\n",
    "# for i in range(n):\n",
    "#     s=input()\n",
    "#     if s in d.keys():\n",
    "#         d[s]+=1\n",
    "#     else:\n",
    "#         d[s]=1\n",
    "# print(len(d.keys()))\n",
    "# print(' '.join([str(d[k]) for k in d.keys()]))\n",
    "\n",
    "\n",
    "# # mth2\n",
    "# count = int(input())\n",
    "# order = []\n",
    "# words = {}\n",
    "\n",
    "# for i in range(0, count):\n",
    "#     word = input()\n",
    "    \n",
    "#     if word in words:\n",
    "#         words[word] += 1\n",
    "#     else:\n",
    "#         order.append(word)\n",
    "#         words[word] = 1\n",
    "\n",
    "# print(len(words))\n",
    "\n",
    "# for word in order:\n",
    "#     print(words[word], end=\" \")"
   ]
  },
  {
   "cell_type": "markdown",
   "metadata": {},
   "source": [
    "## Errors and Exceptions"
   ]
  },
  {
   "cell_type": "markdown",
   "metadata": {},
   "source": [
    "### Exceptions"
   ]
  },
  {
   "cell_type": "markdown",
   "metadata": {},
   "source": [
    "[build-in exceptions](https://docs.python.org/2/library/exceptions.html#module-exceptions)"
   ]
  },
  {
   "cell_type": "code",
   "execution_count": 17,
   "metadata": {},
   "outputs": [
    {
     "name": "stdout",
     "output_type": "stream",
     "text": [
      "3\n",
      "3 0\n",
      "Error Code: integer division or modulo by zero\n",
      "3 *\n",
      "Erroe Code: invalid literal for int() with base 10: '*'\n",
      "3 9\n",
      "0\n"
     ]
    }
   ],
   "source": [
    "n = int(input())\n",
    "\n",
    "for i in range(n):\n",
    "    a, b = input().split()\n",
    "    try:\n",
    "        print(int(a) // int(b))\n",
    "    except ZeroDivisionError as error:\n",
    "        print(\"Error Code:\", error)\n",
    "    except ValueError as v:\n",
    "        print('Error Code:', error)"
   ]
  },
  {
   "cell_type": "markdown",
   "metadata": {
    "collapsed": true
   },
   "source": [
    "## Regex and Parsing\n",
    "### Detect Floating Point Number"
   ]
  },
  {
   "cell_type": "code",
   "execution_count": 3,
   "metadata": {},
   "outputs": [
    {
     "data": {
      "text/plain": [
       "<_sre.SRE_Match object; span=(7, 9), match='ly'>"
      ]
     },
     "execution_count": 3,
     "metadata": {},
     "output_type": "execute_result"
    },
    {
     "data": {
      "text/plain": [
       "False"
      ]
     },
     "execution_count": 3,
     "metadata": {},
     "output_type": "execute_result"
    },
    {
     "data": {
      "text/plain": [
       "True"
      ]
     },
     "execution_count": 3,
     "metadata": {},
     "output_type": "execute_result"
    }
   ],
   "source": [
    "import re \n",
    "re.search(r\"ly\", \"similarly\")\n",
    "bool(re.match(r\"ly\", \"similarly\"))\n",
    "bool(re.match(r\"ly\", \"ly should be in the beginning\"))"
   ]
  },
  {
   "cell_type": "markdown",
   "metadata": {},
   "source": [
    "## Numpy"
   ]
  },
  {
   "cell_type": "markdown",
   "metadata": {},
   "source": [
    "### Arrays"
   ]
  },
  {
   "cell_type": "code",
   "execution_count": 67,
   "metadata": {},
   "outputs": [
    {
     "data": {
      "text/plain": [
       "array([1, 2, 3, 4, 5])"
      ]
     },
     "execution_count": 67,
     "metadata": {},
     "output_type": "execute_result"
    },
    {
     "data": {
      "text/plain": [
       "array([1., 2., 3., 4., 5.])"
      ]
     },
     "execution_count": 67,
     "metadata": {},
     "output_type": "execute_result"
    },
    {
     "data": {
      "text/plain": [
       "array(['1', '2', '3'], dtype='<U11')"
      ]
     },
     "execution_count": 67,
     "metadata": {},
     "output_type": "execute_result"
    }
   ],
   "source": [
    "import numpy as np\n",
    "a = np.array([1, 2, 3, 4, 5]) # numpy array is similar to list, but every element of an array must be the same type\n",
    "a\n",
    "b = np.array([1, 2, 3, 4, 5], float)\n",
    "b\n",
    "c = np.array([1, '2', 3])\n",
    "c"
   ]
  },
  {
   "cell_type": "code",
   "execution_count": 56,
   "metadata": {},
   "outputs": [
    {
     "name": "stdout",
     "output_type": "stream",
     "text": [
      "1 2 3 4 -8 -10\n",
      "[-10.  -8.   4.   3.   2.   1.]\n"
     ]
    }
   ],
   "source": [
    "# You are given a space separated list of numbers. \n",
    "# Your task is to print a reversed NumPy array with the element type float.\n",
    "\n",
    "def arrays(arr):\n",
    "    return np.array(arr[::-1], float)\n",
    "    # complete this function\n",
    "    # use numpy.array\n",
    "\n",
    "arr = input().strip().split(' ')\n",
    "result = arrays(arr)\n",
    "print(result)"
   ]
  },
  {
   "cell_type": "markdown",
   "metadata": {},
   "source": [
    "### Shape and Reshape"
   ]
  },
  {
   "cell_type": "code",
   "execution_count": 69,
   "metadata": {},
   "outputs": [
    {
     "name": "stdout",
     "output_type": "stream",
     "text": [
      "1 2 3 4 5 6 7 8 9\n",
      "[[1 2 3]\n",
      " [4 5 6]\n",
      " [7 8 9]]\n"
     ]
    }
   ],
   "source": [
    "# You are given a space separated list of nine integers. Your task is to convert this list into a 3*3 NumPy array.\n",
    "\n",
    "a = list(map(int, input().split()))\n",
    "\n",
    "print(np.array(a).reshape(3, 3))"
   ]
  },
  {
   "cell_type": "markdown",
   "metadata": {},
   "source": [
    "### Transpose and Flatten"
   ]
  },
  {
   "cell_type": "code",
   "execution_count": 4,
   "metadata": {},
   "outputs": [
    {
     "name": "stdout",
     "output_type": "stream",
     "text": [
      "2 2\n",
      "1 2\n",
      "3 4\n",
      "[[1 3]\n",
      " [2 4]]\n",
      "[1 2 3 4]\n"
     ]
    }
   ],
   "source": [
    "import numpy as np\n",
    "\n",
    "n, m = map(int, input().split())\n",
    "\n",
    "a = []\n",
    "for i in range(n):\n",
    "    a.append(list(map(int, input().split())))\n",
    "    \n",
    "# lista=[list(map(int,input().split())) for i in range(n)]\n",
    "# a=numpy.array(lista)\n",
    "\n",
    "arr = np.array(a)\n",
    "\n",
    "print(np.transpose(arr))\n",
    "print(arr.flatten())\n"
   ]
  },
  {
   "cell_type": "markdown",
   "metadata": {},
   "source": [
    "### Concatenate"
   ]
  },
  {
   "cell_type": "code",
   "execution_count": 10,
   "metadata": {},
   "outputs": [
    {
     "data": {
      "text/plain": [
       "array([1, 2, 3, 4, 5, 6, 7, 8, 9])"
      ]
     },
     "execution_count": 10,
     "metadata": {},
     "output_type": "execute_result"
    },
    {
     "data": {
      "text/plain": [
       "array([[1, 2, 3],\n",
       "       [0, 0, 0],\n",
       "       [0, 0, 0],\n",
       "       [7, 8, 9]])"
      ]
     },
     "execution_count": 10,
     "metadata": {},
     "output_type": "execute_result"
    },
    {
     "data": {
      "text/plain": [
       "array([[1, 2, 3, 0, 0, 0],\n",
       "       [0, 0, 0, 7, 8, 9]])"
      ]
     },
     "execution_count": 10,
     "metadata": {},
     "output_type": "execute_result"
    },
    {
     "name": "stdout",
     "output_type": "stream",
     "text": [
      "4 3 2\n",
      "1 2\n",
      "1 2\n",
      "1 2\n",
      "1 2\n",
      "3 4\n",
      "3 4\n",
      "3 4\n",
      "[[1 2]\n",
      " [1 2]\n",
      " [1 2]\n",
      " [1 2]\n",
      " [3 4]\n",
      " [3 4]\n",
      " [3 4]]\n"
     ]
    }
   ],
   "source": [
    "array_1 = np.array([1,2,3])\n",
    "array_2 = np.array([4,5,6])\n",
    "array_3 = np.array([7,8,9])\n",
    "np.concatenate((array_1, array_2, array_3))\n",
    "\n",
    "array_4 = np.array([[1,2,3],[0,0,0]])\n",
    "array_5 = np.array([[0,0,0],[7,8,9]])\n",
    "np.concatenate((array_4, array_5))\n",
    "np.concatenate((array_4, array_5), axis = 1)\n",
    "\n",
    "\n",
    "n, m, p = map(int, input().split())\n",
    "list_np = [list(map(int, input().split())) for i in range(n)]\n",
    "list_mp = [list(map(int, input().split())) for j in range(m)]\n",
    "print(np.concatenate((np.array(list_np), np.array(list_mp))))"
   ]
  },
  {
   "cell_type": "markdown",
   "metadata": {},
   "source": [
    "### Zeros and Ones"
   ]
  },
  {
   "cell_type": "code",
   "execution_count": 31,
   "metadata": {},
   "outputs": [
    {
     "data": {
      "text/plain": [
       "array([[0., 0.]])"
      ]
     },
     "execution_count": 31,
     "metadata": {},
     "output_type": "execute_result"
    },
    {
     "data": {
      "text/plain": [
       "array([[0, 0]])"
      ]
     },
     "execution_count": 31,
     "metadata": {},
     "output_type": "execute_result"
    },
    {
     "data": {
      "text/plain": [
       "array([[1., 1.]])"
      ]
     },
     "execution_count": 31,
     "metadata": {},
     "output_type": "execute_result"
    },
    {
     "data": {
      "text/plain": [
       "array([[1, 1]])"
      ]
     },
     "execution_count": 31,
     "metadata": {},
     "output_type": "execute_result"
    },
    {
     "name": "stdout",
     "output_type": "stream",
     "text": [
      "3 3 3\n"
     ]
    },
    {
     "data": {
      "text/plain": [
       "array([[[0, 0, 0],\n",
       "        [0, 0, 0],\n",
       "        [0, 0, 0]],\n",
       "\n",
       "       [[0, 0, 0],\n",
       "        [0, 0, 0],\n",
       "        [0, 0, 0]],\n",
       "\n",
       "       [[0, 0, 0],\n",
       "        [0, 0, 0],\n",
       "        [0, 0, 0]]])"
      ]
     },
     "execution_count": 31,
     "metadata": {},
     "output_type": "execute_result"
    },
    {
     "data": {
      "text/plain": [
       "array([[[1, 1, 1],\n",
       "        [1, 1, 1],\n",
       "        [1, 1, 1]],\n",
       "\n",
       "       [[1, 1, 1],\n",
       "        [1, 1, 1],\n",
       "        [1, 1, 1]],\n",
       "\n",
       "       [[1, 1, 1],\n",
       "        [1, 1, 1],\n",
       "        [1, 1, 1]]])"
      ]
     },
     "execution_count": 31,
     "metadata": {},
     "output_type": "execute_result"
    }
   ],
   "source": [
    "np.zeros((1, 2))\n",
    "np.zeros((1, 2), dtype = np.int)\n",
    "\n",
    "np.ones((1, 2))\n",
    "np.ones((1, 2), dtype = np.int)\n",
    "\n",
    "\n",
    "*a, = map(int, input().split())\n",
    "np.zeros(tuple(a), dtype = np.int)\n",
    "np.ones(tuple(a), dtype = np.int)"
   ]
  },
  {
   "cell_type": "markdown",
   "metadata": {},
   "source": [
    "### Eye and Identity"
   ]
  },
  {
   "cell_type": "code",
   "execution_count": 32,
   "metadata": {},
   "outputs": [
    {
     "data": {
      "text/plain": [
       "array([[1., 0., 0.],\n",
       "       [0., 1., 0.],\n",
       "       [0., 0., 1.]])"
      ]
     },
     "execution_count": 32,
     "metadata": {},
     "output_type": "execute_result"
    },
    {
     "data": {
      "text/plain": [
       "array([[0., 1., 0., 0., 0., 0., 0.],\n",
       "       [0., 0., 1., 0., 0., 0., 0.],\n",
       "       [0., 0., 0., 1., 0., 0., 0.],\n",
       "       [0., 0., 0., 0., 1., 0., 0.],\n",
       "       [0., 0., 0., 0., 0., 1., 0.],\n",
       "       [0., 0., 0., 0., 0., 0., 1.],\n",
       "       [0., 0., 0., 0., 0., 0., 0.],\n",
       "       [0., 0., 0., 0., 0., 0., 0.]])"
      ]
     },
     "execution_count": 32,
     "metadata": {},
     "output_type": "execute_result"
    },
    {
     "data": {
      "text/plain": [
       "array([[0., 0., 0., 0., 0., 0., 0.],\n",
       "       [0., 0., 0., 0., 0., 0., 0.],\n",
       "       [1., 0., 0., 0., 0., 0., 0.],\n",
       "       [0., 1., 0., 0., 0., 0., 0.],\n",
       "       [0., 0., 1., 0., 0., 0., 0.],\n",
       "       [0., 0., 0., 1., 0., 0., 0.],\n",
       "       [0., 0., 0., 0., 1., 0., 0.],\n",
       "       [0., 0., 0., 0., 0., 1., 0.]])"
      ]
     },
     "execution_count": 32,
     "metadata": {},
     "output_type": "execute_result"
    },
    {
     "name": "stdout",
     "output_type": "stream",
     "text": [
      "3 3\n"
     ]
    },
    {
     "data": {
      "text/plain": [
       "array([[1., 0., 0.],\n",
       "       [0., 1., 0.],\n",
       "       [0., 0., 1.]])"
      ]
     },
     "execution_count": 32,
     "metadata": {},
     "output_type": "execute_result"
    }
   ],
   "source": [
    "np.identity(3) #  3 is for  dimension 3 X 3\n",
    "np.eye(8, 7, k = 1) # 8 X 7 Dimensional array with first upper diagonal 1\n",
    "np.eye(8, 7, k = -2) # 8 X 7 Dimensional array with second lower diagonal 1\n",
    "\n",
    "\n",
    "# an array of size n * m with its main diagonal elements as 1's and 0's everywhere else.\n",
    "n, m = map(int, input().split())\n",
    "np.eye(n, m)"
   ]
  },
  {
   "cell_type": "code",
   "execution_count": 35,
   "metadata": {},
   "outputs": [
    {
     "name": "stdout",
     "output_type": "stream",
     "text": [
      "5 5\n",
      "[[ 1.  0.  0.  0.  0.]\n",
      " [ 0.  1.  0.  0.  0.]\n",
      " [ 0.  0.  1.  0.  0.]\n",
      " [ 0.  0.  0.  1.  0.]\n",
      " [ 0.  0.  0.  0.  1.]]\n"
     ]
    }
   ],
   "source": [
    "n, m = map(int, input().split())\n",
    "np.set_printoptions(sign=' ')\n",
    "print(np.eye(n, m))"
   ]
  },
  {
   "cell_type": "code",
   "execution_count": 34,
   "metadata": {},
   "outputs": [
    {
     "name": "stdout",
     "output_type": "stream",
     "text": [
      "5 5\n",
      "[[1. 0. 0. 0. 0.]\n",
      " [0. 1. 0. 0. 0.]\n",
      " [0. 0. 1. 0. 0.]\n",
      " [0. 0. 0. 1. 0.]\n",
      " [0. 0. 0. 0. 1.]]\n"
     ]
    }
   ],
   "source": [
    "n, m = map(int, input().split())\n",
    "# np.set_printoptions(sign=' ')\n",
    "print(np.eye(n, m))"
   ]
  },
  {
   "cell_type": "markdown",
   "metadata": {},
   "source": [
    "### Array Mathematics"
   ]
  },
  {
   "cell_type": "code",
   "execution_count": 38,
   "metadata": {},
   "outputs": [
    {
     "data": {
      "text/plain": [
       "array([  6.,   8.,  10.,  12.])"
      ]
     },
     "execution_count": 38,
     "metadata": {},
     "output_type": "execute_result"
    },
    {
     "data": {
      "text/plain": [
       "array([  6.,   8.,  10.,  12.])"
      ]
     },
     "execution_count": 38,
     "metadata": {},
     "output_type": "execute_result"
    },
    {
     "data": {
      "text/plain": [
       "array([-4., -4., -4., -4.])"
      ]
     },
     "execution_count": 38,
     "metadata": {},
     "output_type": "execute_result"
    },
    {
     "data": {
      "text/plain": [
       "array([-4., -4., -4., -4.])"
      ]
     },
     "execution_count": 38,
     "metadata": {},
     "output_type": "execute_result"
    },
    {
     "data": {
      "text/plain": [
       "array([  5.,  12.,  21.,  32.])"
      ]
     },
     "execution_count": 38,
     "metadata": {},
     "output_type": "execute_result"
    },
    {
     "data": {
      "text/plain": [
       "array([  5.,  12.,  21.,  32.])"
      ]
     },
     "execution_count": 38,
     "metadata": {},
     "output_type": "execute_result"
    },
    {
     "data": {
      "text/plain": [
       "array([ 0.2       ,  0.33333333,  0.42857143,  0.5       ])"
      ]
     },
     "execution_count": 38,
     "metadata": {},
     "output_type": "execute_result"
    },
    {
     "data": {
      "text/plain": [
       "array([ 0.2       ,  0.33333333,  0.42857143,  0.5       ])"
      ]
     },
     "execution_count": 38,
     "metadata": {},
     "output_type": "execute_result"
    },
    {
     "data": {
      "text/plain": [
       "array([ 1.,  2.,  3.,  4.])"
      ]
     },
     "execution_count": 38,
     "metadata": {},
     "output_type": "execute_result"
    },
    {
     "data": {
      "text/plain": [
       "array([ 1.,  2.,  3.,  4.])"
      ]
     },
     "execution_count": 38,
     "metadata": {},
     "output_type": "execute_result"
    },
    {
     "data": {
      "text/plain": [
       "array([ 1.0000e+00,  6.4000e+01,  2.1870e+03,  6.5536e+04])"
      ]
     },
     "execution_count": 38,
     "metadata": {},
     "output_type": "execute_result"
    },
    {
     "data": {
      "text/plain": [
       "array([ 1.0000e+00,  6.4000e+01,  2.1870e+03,  6.5536e+04])"
      ]
     },
     "execution_count": 38,
     "metadata": {},
     "output_type": "execute_result"
    },
    {
     "name": "stdout",
     "output_type": "stream",
     "text": [
      "1 4\n",
      "1 2 3 4\n",
      "5 6 7 8\n",
      "[[ 6  8 10 12]]\n",
      "[[-4 -4 -4 -4]]\n",
      "[[ 5 12 21 32]]\n",
      "[[ 0.2         0.33333333  0.42857143  0.5       ]]\n",
      "[[1 2 3 4]]\n",
      "[[    1    64  2187 65536]]\n"
     ]
    }
   ],
   "source": [
    "a = np.array([1,2,3,4], float)\n",
    "b = np.array([5,6,7,8], float)\n",
    "\n",
    "a + b          \n",
    "np.add(a, b)\n",
    "\n",
    "a - b               \n",
    "np.subtract(a, b)\n",
    "\n",
    "a * b               \n",
    "np.multiply(a, b)\n",
    "\n",
    "a / b            \n",
    "np.divide(a, b)\n",
    "\n",
    "a % b            \n",
    "np.mod(a, b)  \n",
    "\n",
    "a**b          \n",
    "np.power(a, b)  \n",
    "\n",
    "\n",
    "n, m = map(int, input().split())\n",
    "a = np.array([list(map(int, input().split())) for i in range(n)])\n",
    "b = np.array([list(map(int, input().split())) for i in range(n)])\n",
    "print(a + b)\n",
    "print(a - b)\n",
    "print(np.multiply(a, b))\n",
    "print(np.divide(a, b))\n",
    "print(a % b)\n",
    "print(np.power(a, b))\n"
   ]
  },
  {
   "cell_type": "markdown",
   "metadata": {},
   "source": [
    "### Floor, Ceil and Rint"
   ]
  },
  {
   "cell_type": "code",
   "execution_count": 40,
   "metadata": {},
   "outputs": [
    {
     "data": {
      "text/plain": [
       "array([ 1.,  2.,  3.,  4.,  5.,  6.])"
      ]
     },
     "execution_count": 40,
     "metadata": {},
     "output_type": "execute_result"
    },
    {
     "data": {
      "text/plain": [
       "array([ 2.,  3.,  4.,  5.,  6.,  7.])"
      ]
     },
     "execution_count": 40,
     "metadata": {},
     "output_type": "execute_result"
    },
    {
     "data": {
      "text/plain": [
       "array([ 1.,  2.,  3.,  4.,  6.,  7.])"
      ]
     },
     "execution_count": 40,
     "metadata": {},
     "output_type": "execute_result"
    },
    {
     "name": "stdout",
     "output_type": "stream",
     "text": [
      "1.1 2.2 3.3 4.4 5.5 6.6 7.7 8.8 9.9\n",
      "[ 1.  2.  3.  4.  5.  6.  7.  8.  9.]\n",
      "[  2.   3.   4.   5.   6.   7.   8.   9.  10.]\n",
      "[  1.   2.   3.   4.   6.   7.   8.   9.  10.]\n"
     ]
    }
   ],
   "source": [
    "a = np.array([1.1, 2.2, 3.3, 4.4, 5.5, 6.6])\n",
    "np.floor(a)\n",
    "np.ceil(a)\n",
    "np.rint(a) #The rint tool rounds to the nearest integer of input element-wise\n",
    "\n",
    "a = np.array(list(map(float, input().split())))\n",
    "# np.set_printoptions(sign=' ')\n",
    "print(np.floor(a))\n",
    "print(np.ceil(a))\n",
    "print(np.rint(a))"
   ]
  },
  {
   "cell_type": "markdown",
   "metadata": {},
   "source": [
    "### Sum and Prod"
   ]
  },
  {
   "cell_type": "code",
   "execution_count": 47,
   "metadata": {
    "scrolled": true
   },
   "outputs": [
    {
     "data": {
      "text/plain": [
       "array([4, 6])"
      ]
     },
     "execution_count": 47,
     "metadata": {},
     "output_type": "execute_result"
    },
    {
     "data": {
      "text/plain": [
       "array([3, 7])"
      ]
     },
     "execution_count": 47,
     "metadata": {},
     "output_type": "execute_result"
    },
    {
     "data": {
      "text/plain": [
       "10"
      ]
     },
     "execution_count": 47,
     "metadata": {},
     "output_type": "execute_result"
    },
    {
     "data": {
      "text/plain": [
       "10"
      ]
     },
     "execution_count": 47,
     "metadata": {},
     "output_type": "execute_result"
    },
    {
     "data": {
      "text/plain": [
       "array([3, 8])"
      ]
     },
     "execution_count": 47,
     "metadata": {},
     "output_type": "execute_result"
    },
    {
     "data": {
      "text/plain": [
       "array([ 2, 12])"
      ]
     },
     "execution_count": 47,
     "metadata": {},
     "output_type": "execute_result"
    },
    {
     "data": {
      "text/plain": [
       "24"
      ]
     },
     "execution_count": 47,
     "metadata": {},
     "output_type": "execute_result"
    },
    {
     "data": {
      "text/plain": [
       "24"
      ]
     },
     "execution_count": 47,
     "metadata": {},
     "output_type": "execute_result"
    },
    {
     "name": "stdout",
     "output_type": "stream",
     "text": [
      "2 2\n",
      "1 2\n",
      "3 4\n",
      "24\n"
     ]
    }
   ],
   "source": [
    "my_array = np.array([ [1, 2], [3, 4] ])\n",
    "\n",
    "np.sum(my_array, axis = 0)         #Output : [4 6]\n",
    "np.sum(my_array, axis = 1)         #Output : [3 7]\n",
    "np.sum(my_array, axis = None)      #Output : 10\n",
    "np.sum(my_array)                  \n",
    "\n",
    "np.prod(my_array, axis = 0)            #Output : [3 8]\n",
    "np.prod(my_array, axis = 1)            #Output : [ 2 12]\n",
    "np.prod(my_array, axis = None)         #Output : 24\n",
    "np.prod(my_array)\n",
    "\n",
    "\n",
    "n, m = map(int, input().split())\n",
    "arr = np.array([list(map(int, input().split())) for i in range(n)])\n",
    "print(np.prod(np.sum(arr, axis = 0)))"
   ]
  },
  {
   "cell_type": "markdown",
   "metadata": {},
   "source": [
    "### Min and Max"
   ]
  },
  {
   "cell_type": "code",
   "execution_count": 48,
   "metadata": {},
   "outputs": [
    {
     "name": "stdout",
     "output_type": "stream",
     "text": [
      "4 2\n",
      "2 5\n",
      "3 7\n",
      "1 3\n",
      "4 0\n",
      "3\n"
     ]
    }
   ],
   "source": [
    "n, m = map(int, input().split())\n",
    "arr = np.array([list(map(int, input().split())) for i in range(n)])\n",
    "print(np.max(np.min(arr, axis = 1)))"
   ]
  },
  {
   "cell_type": "markdown",
   "metadata": {},
   "source": [
    "### Mean, Var and Std"
   ]
  },
  {
   "cell_type": "code",
   "execution_count": 49,
   "metadata": {},
   "outputs": [
    {
     "name": "stdout",
     "output_type": "stream",
     "text": [
      "2 2\n",
      "1 2\n",
      "3 4\n",
      "[ 1.5  3.5]\n",
      "[ 1.  1.]\n",
      "1.118033988749895\n"
     ]
    }
   ],
   "source": [
    "n, m = map(int, input().split())\n",
    "arr = np.array([list(map(int, input().split())) for i in range(n)])\n",
    "print(np.mean(arr, axis = 1))\n",
    "print(np.var(arr, axis = 0))\n",
    "print(np.std(arr, axis = None))"
   ]
  },
  {
   "cell_type": "markdown",
   "metadata": {},
   "source": [
    "### Dot and Cross"
   ]
  },
  {
   "cell_type": "code",
   "execution_count": 50,
   "metadata": {},
   "outputs": [
    {
     "data": {
      "text/plain": [
       "11"
      ]
     },
     "execution_count": 50,
     "metadata": {},
     "output_type": "execute_result"
    },
    {
     "data": {
      "text/plain": [
       "array(-2)"
      ]
     },
     "execution_count": 50,
     "metadata": {},
     "output_type": "execute_result"
    },
    {
     "name": "stdout",
     "output_type": "stream",
     "text": [
      "2\n",
      "1 2\n",
      "3 4\n",
      "1 2\n",
      "3 4\n",
      "[[ 7 10]\n",
      " [15 22]]\n"
     ]
    }
   ],
   "source": [
    "A = np.array([ 1, 2 ])\n",
    "B = np.array([ 3, 4 ])\n",
    "\n",
    "np.dot(A, B)       #Output: 11\n",
    "np.cross(A, B)  # Output: -2\n",
    "\n",
    "n = int(input())\n",
    "a = []\n",
    "for i in range(n):\n",
    "    a.append(list(map(int, input().split())))\n",
    "A = np.array(a).reshape((n, n))\n",
    "\n",
    "b = []\n",
    "for i in range(n):\n",
    "    b.append(list(map(int, input().split())))\n",
    "B = np.array(b).reshape((n, n))\n",
    "\n",
    "print(np.dot(A, B))"
   ]
  },
  {
   "cell_type": "markdown",
   "metadata": {},
   "source": [
    "### Inner and Outer"
   ]
  },
  {
   "cell_type": "code",
   "execution_count": 51,
   "metadata": {},
   "outputs": [
    {
     "data": {
      "text/plain": [
       "4"
      ]
     },
     "execution_count": 51,
     "metadata": {},
     "output_type": "execute_result"
    },
    {
     "data": {
      "text/plain": [
       "array([[0, 0],\n",
       "       [3, 4]])"
      ]
     },
     "execution_count": 51,
     "metadata": {},
     "output_type": "execute_result"
    },
    {
     "name": "stdout",
     "output_type": "stream",
     "text": [
      "0 1\n",
      "2 3\n",
      "3\n",
      "[[0 0]\n",
      " [2 3]]\n"
     ]
    }
   ],
   "source": [
    "A = np.array([0, 1])\n",
    "B = np.array([3, 4])\n",
    "\n",
    "np.inner(A, B) # inner product\n",
    "np.outer(A, B) # outer product\n",
    "\n",
    "\n",
    "a = list(map(int, input().split()))\n",
    "b = list(map(int, input().split()))\n",
    "\n",
    "A = np.array(a)\n",
    "B = np.array(b)\n",
    "\n",
    "print(np.inner(A, B))\n",
    "print(np.outer(A, B))"
   ]
  },
  {
   "cell_type": "markdown",
   "metadata": {},
   "source": [
    "### Polynomials"
   ]
  },
  {
   "cell_type": "code",
   "execution_count": 55,
   "metadata": {},
   "outputs": [
    {
     "data": {
      "text/plain": [
       "array([  1., -11.,   9.,  11., -10.])"
      ]
     },
     "execution_count": 55,
     "metadata": {},
     "output_type": "execute_result"
    },
    {
     "data": {
      "text/plain": [
       "array([ 1., -1.])"
      ]
     },
     "execution_count": 55,
     "metadata": {},
     "output_type": "execute_result"
    },
    {
     "data": {
      "text/plain": [
       "array([ 0.33333333,  0.5       ,  1.        ,  0.        ])"
      ]
     },
     "execution_count": 55,
     "metadata": {},
     "output_type": "execute_result"
    },
    {
     "data": {
      "text/plain": [
       "array([3, 2, 1])"
      ]
     },
     "execution_count": 55,
     "metadata": {},
     "output_type": "execute_result"
    },
    {
     "data": {
      "text/plain": [
       "34"
      ]
     },
     "execution_count": 55,
     "metadata": {},
     "output_type": "execute_result"
    },
    {
     "data": {
      "text/plain": [
       "array([  1.00000000e+00,   0.00000000e+00,   1.98602732e-16])"
      ]
     },
     "execution_count": 55,
     "metadata": {},
     "output_type": "execute_result"
    },
    {
     "name": "stdout",
     "output_type": "stream",
     "text": [
      "1.1 2 3\n",
      "0\n",
      "3.0\n"
     ]
    }
   ],
   "source": [
    "# poly tool returns the coefficients of a polynomial with the given sequence of roots\n",
    "np.poly([-1, 1, 1, 10])\n",
    "\n",
    "#  roots tool returns the roots of a polynomial with the given coefficients\n",
    "np.roots([1, 0, -1])\n",
    "\n",
    "#  polyint tool returns an antiderivative (indefinite integral) of a polynomial.\n",
    "np.polyint([1, 1, 1])\n",
    "\n",
    "# polyder tool returns the derivative of the specified order of a polynomial.\n",
    "np.polyder([1, 1, 1, 1])       #Output : [3 2 1]\n",
    "\n",
    "# polyval tool evaluates the polynomial at specific value.\n",
    "np.polyval([1, -2, 0, 2], 4)   #Output : 34\n",
    "\n",
    "# polyfit tool fits a polynomial of a specified order to a set of data using a least-squares approach\n",
    "np.polyfit([0, 1, -1, 2, -2], [0, 1, 1, 4, 4], 2)\n",
    "\n",
    "\n",
    "coe = list(map(float, input().split()))\n",
    "val = float(input())\n",
    "print(np.polyval(coe, val))"
   ]
  },
  {
   "cell_type": "markdown",
   "metadata": {},
   "source": [
    "### Linear Algebra"
   ]
  },
  {
   "cell_type": "code",
   "execution_count": 52,
   "metadata": {},
   "outputs": [
    {
     "data": {
      "text/plain": [
       "-2.9999999999999996"
      ]
     },
     "execution_count": 52,
     "metadata": {},
     "output_type": "execute_result"
    },
    {
     "data": {
      "text/plain": [
       "array([ 3., -1.])"
      ]
     },
     "execution_count": 52,
     "metadata": {},
     "output_type": "execute_result"
    },
    {
     "data": {
      "text/plain": [
       "array([[ 0.70710678, -0.70710678],\n",
       "       [ 0.70710678,  0.70710678]])"
      ]
     },
     "execution_count": 52,
     "metadata": {},
     "output_type": "execute_result"
    },
    {
     "data": {
      "text/plain": [
       "array([[-0.33333333,  0.66666667],\n",
       "       [ 0.66666667, -0.33333333]])"
      ]
     },
     "execution_count": 52,
     "metadata": {},
     "output_type": "execute_result"
    },
    {
     "name": "stdout",
     "output_type": "stream",
     "text": [
      "2\n",
      "1.1 1.1\n",
      "1.1 1.1\n"
     ]
    },
    {
     "data": {
      "text/plain": [
       "0.0"
      ]
     },
     "execution_count": 52,
     "metadata": {},
     "output_type": "execute_result"
    }
   ],
   "source": [
    "# linalg.det tool computes the determinant of an array.\n",
    "np.linalg.det([[1 , 2], [2, 1]])\n",
    "\n",
    "# linalg.eig computes the eigenvalues and right eigenvectors of a square array.\n",
    "vals, vecs = np.linalg.eig([[1 , 2], [2, 1]])\n",
    "vals\n",
    "vecs\n",
    "\n",
    "# linalg.inv tool computes the (multiplicative) inverse of a matrix.\n",
    "np.linalg.inv([[1 , 2], [2, 1]])\n",
    "\n",
    "\n",
    "n = int(input())\n",
    "arr = np.array([list(map(float, input().split())) for i in range(n)])\n",
    "np.linalg.det(arr)"
   ]
  },
  {
   "cell_type": "code",
   "execution_count": null,
   "metadata": {
    "collapsed": true
   },
   "outputs": [],
   "source": []
  }
 ],
 "metadata": {
  "kernelspec": {
   "display_name": "Python 3",
   "language": "python",
   "name": "python3"
  },
  "language_info": {
   "codemirror_mode": {
    "name": "ipython",
    "version": 3
   },
   "file_extension": ".py",
   "mimetype": "text/x-python",
   "name": "python",
   "nbconvert_exporter": "python",
   "pygments_lexer": "ipython3",
   "version": "3.6.2"
  },
  "toc": {
   "nav_menu": {},
   "number_sections": true,
   "sideBar": true,
   "skip_h1_title": false,
   "toc_cell": false,
   "toc_position": {
    "height": "538px",
    "left": "0px",
    "right": "20px",
    "top": "106px",
    "width": "272px"
   },
   "toc_section_display": "block",
   "toc_window_display": false
  }
 },
 "nbformat": 4,
 "nbformat_minor": 2
}
