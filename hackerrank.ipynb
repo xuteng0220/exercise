{
 "cells": [
  {
   "cell_type": "code",
   "execution_count": 1,
   "metadata": {
    "collapsed": true
   },
   "outputs": [],
   "source": [
    "import numpy as np\n",
    "import pandas as pd"
   ]
  },
  {
   "cell_type": "markdown",
   "metadata": {},
   "source": [
    "## introduction"
   ]
  },
  {
   "cell_type": "markdown",
   "metadata": {},
   "source": [
    "### Say \"Hello, World!\" With Python"
   ]
  },
  {
   "cell_type": "code",
   "execution_count": 197,
   "metadata": {},
   "outputs": [
    {
     "name": "stdout",
     "output_type": "stream",
     "text": [
      "Hello, World!\n"
     ]
    }
   ],
   "source": [
    "print(\"Hello, World!\")"
   ]
  },
  {
   "cell_type": "markdown",
   "metadata": {
    "scrolled": true
   },
   "source": [
    "### Python If-Else"
   ]
  },
  {
   "cell_type": "code",
   "execution_count": 204,
   "metadata": {},
   "outputs": [
    {
     "name": "stdout",
     "output_type": "stream",
     "text": [
      "26\n",
      "Not Weird\n"
     ]
    }
   ],
   "source": [
    "N = int(input())\n",
    "\n",
    "if (N < 1) or (N > 100):\n",
    "    print('out of the range')\n",
    "elif (N % 2) == 0:\n",
    "    if N < 6:\n",
    "        print('Not Weird')\n",
    "    elif N < 21:\n",
    "        print('Weird')\n",
    "    else:\n",
    "        print('Not Weird')\n",
    "else:\n",
    "    print('Weird')"
   ]
  },
  {
   "cell_type": "code",
   "execution_count": 203,
   "metadata": {},
   "outputs": [
    {
     "name": "stdout",
     "output_type": "stream",
     "text": [
      "Not Weird\n"
     ]
    }
   ],
   "source": [
    "n = 26\n",
    "if n%2==1:\n",
    "    print(\"Weird\")\n",
    "elif n>=2 and n<=5:\n",
    "    print(\"Not Weird\")\n",
    "elif n>=6 and n<=20:\n",
    "    print(\"Weird\")\n",
    "else:\n",
    "    print(\"Not Weird\")"
   ]
  },
  {
   "cell_type": "markdown",
   "metadata": {},
   "source": [
    "### Arithmetic Operators"
   ]
  },
  {
   "cell_type": "code",
   "execution_count": 205,
   "metadata": {},
   "outputs": [
    {
     "name": "stdout",
     "output_type": "stream",
     "text": [
      "5\n",
      "6\n",
      "11\n",
      "-1\n",
      "30\n"
     ]
    }
   ],
   "source": [
    "if __name__ == '__main__':\n",
    "    a = int(input())\n",
    "    b = int(input())\n",
    "\n",
    "print(a + b)\n",
    "print(a - b)\n",
    "print(a * b)\n"
   ]
  },
  {
   "cell_type": "markdown",
   "metadata": {},
   "source": [
    "### Python: Division"
   ]
  },
  {
   "cell_type": "code",
   "execution_count": 206,
   "metadata": {
    "scrolled": true
   },
   "outputs": [
    {
     "name": "stdout",
     "output_type": "stream",
     "text": [
      "7\n",
      "2\n",
      "3\n",
      "3.5\n"
     ]
    }
   ],
   "source": [
    "if __name__ == '__main__':\n",
    "    a = int(input())\n",
    "    b = int(input())\n",
    "\n",
    "print(a // b)\n",
    "print(a / b)"
   ]
  },
  {
   "cell_type": "markdown",
   "metadata": {},
   "source": [
    "### Loops"
   ]
  },
  {
   "cell_type": "code",
   "execution_count": 207,
   "metadata": {},
   "outputs": [
    {
     "name": "stdout",
     "output_type": "stream",
     "text": [
      "7\n",
      "0\n",
      "1\n",
      "4\n",
      "9\n",
      "16\n",
      "25\n",
      "36\n"
     ]
    }
   ],
   "source": [
    "if __name__ == '__main__':\n",
    "    n = int(input())\n",
    "\n",
    "for i in range(n):\n",
    "    print(i ** 2)"
   ]
  },
  {
   "cell_type": "markdown",
   "metadata": {},
   "source": [
    "### Write a function"
   ]
  },
  {
   "cell_type": "code",
   "execution_count": 208,
   "metadata": {
    "scrolled": true
   },
   "outputs": [
    {
     "name": "stdout",
     "output_type": "stream",
     "text": [
      "2100\n",
      "False\n"
     ]
    }
   ],
   "source": [
    "def is_leap(year):\n",
    "\n",
    "    leap = False\n",
    "    if year % 4 == 0:\n",
    "        if year % 100 == 0:\n",
    "            if year % 400 == 0:\n",
    "                leap = True\n",
    "            else:\n",
    "                leap = False\n",
    "        else:\n",
    "            leap = True\n",
    "    \n",
    "    return leap\n",
    "\n",
    "\n",
    "year = int(input())\n",
    "print(is_leap(year))"
   ]
  },
  {
   "cell_type": "markdown",
   "metadata": {},
   "source": [
    "### Print Function"
   ]
  },
  {
   "cell_type": "code",
   "execution_count": 209,
   "metadata": {
    "scrolled": true
   },
   "outputs": [
    {
     "name": "stdout",
     "output_type": "stream",
     "text": [
      "17\n",
      "1234567891011121314151617\n"
     ]
    }
   ],
   "source": [
    "if __name__ == '__main__':\n",
    "    n = int(input())\n",
    "\n",
    "import math\n",
    "\n",
    "s = 0\n",
    "for i in range(n + 1)[1:(n+1)]:\n",
    "    s = s * (10 ** (int(math.log(i, 10)) + 1)) + i\n",
    "\n",
    "print(s)"
   ]
  },
  {
   "cell_type": "code",
   "execution_count": 211,
   "metadata": {
    "scrolled": true
   },
   "outputs": [
    {
     "name": "stdout",
     "output_type": "stream",
     "text": [
      "12\n",
      "123456789101112\n",
      "13\n",
      "12345678910111213"
     ]
    }
   ],
   "source": [
    "print(*range(1, int(input()) + 1), sep='')\n",
    "\n",
    "for i in range(1,int(input()) + 1):\n",
    "    print (i,end='')\n",
    "    \n",
    "list(map(lambda x: print(x,end=''),list(range(1,1+int(input())))))"
   ]
  },
  {
   "cell_type": "code",
   "execution_count": null,
   "metadata": {
    "collapsed": true
   },
   "outputs": [],
   "source": []
  },
  {
   "cell_type": "markdown",
   "metadata": {},
   "source": [
    "## Basic Data Types"
   ]
  },
  {
   "cell_type": "markdown",
   "metadata": {},
   "source": [
    "### List Comprehensions"
   ]
  },
  {
   "cell_type": "code",
   "execution_count": 220,
   "metadata": {},
   "outputs": [
    {
     "name": "stdout",
     "output_type": "stream",
     "text": [
      "3\n",
      "3\n",
      "5\n",
      "4\n",
      "[[0, 0, 0], [0, 0, 1], [0, 0, 2], [0, 0, 3], [0, 0, 5], [0, 1, 0], [0, 1, 1], [0, 1, 2], [0, 1, 4], [0, 1, 5], [0, 2, 0], [0, 2, 1], [0, 2, 3], [0, 2, 4], [0, 2, 5], [0, 3, 0], [0, 3, 2], [0, 3, 3], [0, 3, 4], [0, 3, 5], [1, 0, 0], [1, 0, 1], [1, 0, 2], [1, 0, 4], [1, 0, 5], [1, 1, 0], [1, 1, 1], [1, 1, 3], [1, 1, 4], [1, 1, 5], [1, 2, 0], [1, 2, 2], [1, 2, 3], [1, 2, 4], [1, 2, 5], [1, 3, 1], [1, 3, 2], [1, 3, 3], [1, 3, 4], [1, 3, 5], [2, 0, 0], [2, 0, 1], [2, 0, 3], [2, 0, 4], [2, 0, 5], [2, 1, 0], [2, 1, 2], [2, 1, 3], [2, 1, 4], [2, 1, 5], [2, 2, 1], [2, 2, 2], [2, 2, 3], [2, 2, 4], [2, 2, 5], [2, 3, 0], [2, 3, 1], [2, 3, 2], [2, 3, 3], [2, 3, 4], [2, 3, 5], [3, 0, 0], [3, 0, 2], [3, 0, 3], [3, 0, 4], [3, 0, 5], [3, 1, 1], [3, 1, 2], [3, 1, 3], [3, 1, 4], [3, 1, 5], [3, 2, 0], [3, 2, 1], [3, 2, 2], [3, 2, 3], [3, 2, 4], [3, 2, 5], [3, 3, 0], [3, 3, 1], [3, 3, 2], [3, 3, 3], [3, 3, 4], [3, 3, 5]]\n"
     ]
    }
   ],
   "source": [
    "if __name__ == '__main__':\n",
    "    x = int(input())\n",
    "    y = int(input())\n",
    "    z = int(input())\n",
    "    n = int(input())\n",
    "\n",
    "ar = []\n",
    "p = 0\n",
    "for i in range(x + 1):\n",
    "    for j in range(y + 1):\n",
    "        for k in range(z + 1):\n",
    "            if (i + j + k) != n:\n",
    "                ar.append([])\n",
    "                ar[p] = [i, j, k]\n",
    "                p += 1\n",
    "\n",
    "print(ar)\n",
    "\n",
    "\n",
    "# mtd1\n",
    "# [[i, j, k ] for i in range(x) for j in range(y) for k in range(z) if (i + j + k) != n]"
   ]
  },
  {
   "cell_type": "markdown",
   "metadata": {},
   "source": [
    "### Find the Runner-Up Score!"
   ]
  },
  {
   "cell_type": "code",
   "execution_count": 216,
   "metadata": {},
   "outputs": [
    {
     "name": "stdout",
     "output_type": "stream",
     "text": [
      "5\n",
      "5 6 6 4 8\n",
      "6\n"
     ]
    }
   ],
   "source": [
    "if __name__ == '__main__':\n",
    "    n = int(input())\n",
    "    arr = map(int, input().split())\n",
    "\n",
    "list_arr = list(arr)\n",
    "s = []\n",
    "for i in list_arr:\n",
    "    if i not in s:\n",
    "        s.append(i)\n",
    "\n",
    "# mtd1\n",
    "# s=list(set(list_arr))\n",
    "\n",
    "# mtd2\n",
    "# big, sbig = -10000, -10000\n",
    "# for i in list_arr:\n",
    "#     if (i > big):\n",
    "#         big, sbig = i, big\n",
    "#     elif (i < big and i > sbig):\n",
    "#         sbig = i\n",
    "# sbig\n",
    "\n",
    "s.sort()\n",
    "\n",
    "print(s[-2])"
   ]
  },
  {
   "cell_type": "markdown",
   "metadata": {},
   "source": [
    "### Nested Lists"
   ]
  },
  {
   "cell_type": "code",
   "execution_count": null,
   "metadata": {
    "collapsed": true
   },
   "outputs": [],
   "source": [
    "if __name__ == '__main__':\n",
    "    l_name = []\n",
    "    l_score = []\n",
    "    n = int(input())\n",
    "    for _ in range(n):\n",
    "        name = input()\n",
    "        l_name.append(name)\n",
    "        score = float(input())\n",
    "        l_score.append(score)\n",
    "\n",
    "\n",
    "a_dict = dict(zip(l_name, l_score))\n",
    "\n",
    "# snd_small\n",
    "l_score.sort()\n",
    "\n",
    "for i in range(1, n):\n",
    "    if l_score[i] > l_score[i - 1]:\n",
    "        snd_small = l_score[i]\n",
    "        break\n",
    "\n",
    "result = []\n",
    "for key,value in a_dict.items():\n",
    "    if value==snd_small:\n",
    "        result.append(key)\n",
    "        \n",
    "# 按名字首字母排序\n",
    "result.sort()\n",
    "\n",
    "for i in result:\n",
    "    print(i)\n",
    "    \n",
    "    \n",
    "# # mtd1\n",
    "# from collections import defaultdict\n",
    "# marks = defaultdict(list)\n",
    "# for _ in range(int(input())):\n",
    "#     name, mark = input(), float(input())\n",
    "#     marks[mark].append(name)\n",
    "\n",
    "# print(\"\\n\".join(map(str, sorted(marks[sorted(marks.keys())[1]]))))\n",
    "\n",
    "\n",
    "\n",
    "# # mtd2\n",
    "# def secondLowestMarks(students):\n",
    "#     lowest_mark = min(students, key = lambda stu: stu[1])[1];\n",
    "#     students = [stu for stu in students if stu[1] != lowest_mark]\n",
    "#     #filter(lambda stu: stu[1] == lowest_mark, students);\n",
    "#     second_lowest_mark = min(students, key = lambda stu: stu[1])[1];\n",
    "#     return sorted([stu[0] for stu in students if stu[1] == second_lowest_mark]);\n",
    "\n",
    "# def secondLowestMarks2(students):\n",
    "#     \"If there's a tie for lowest mark we include all.\"\n",
    "#     students.sort();\n",
    "#     picked_students = sorted(filter(lambda x: x[1] == students[1][1], students));\n",
    "#     return [stu[0] for stu in picked_students];\n",
    "\n",
    "# if __name__ == \"__main__\":\n",
    "#     num_students = int(input());\n",
    "#     students = [[input(),float(input())] for i in range(num_students)];\n",
    "#     for student in secondLowestMarks(students):\n",
    "#         print(student);"
   ]
  },
  {
   "cell_type": "markdown",
   "metadata": {},
   "source": [
    "### Finding the percentage"
   ]
  },
  {
   "cell_type": "code",
   "execution_count": null,
   "metadata": {
    "collapsed": true
   },
   "outputs": [],
   "source": [
    "if __name__ == '__main__':\n",
    "    n = int(input())\n",
    "    student_marks = {}\n",
    "    for _ in range(n):\n",
    "        name, *line = input().split()\n",
    "        scores = list(map(float, line))\n",
    "        student_marks[name] = scores\n",
    "    \n",
    "student_marks_avg = {}\n",
    "for key in student_marks.keys():\n",
    "    student_marks_avg[key] = sum(student_marks[key]) / len(student_marks[key])\n",
    "    \n",
    "query_name = input()\n",
    "\n",
    "print('%.2f' % student_marks_avg[query_name])\n",
    "\n",
    "# # mtd1\n",
    "# data = {}\n",
    "# for _ in range(int(input())):\n",
    "#     name, *marks = input().split()\n",
    "#     data[name] = [float(m) for m in marks]\n",
    "# marks = data[input()]\n",
    "# print(\"%.2f\" % (sum(marks)/len(marks)))"
   ]
  },
  {
   "cell_type": "markdown",
   "metadata": {},
   "source": [
    "### Lists"
   ]
  },
  {
   "cell_type": "code",
   "execution_count": null,
   "metadata": {
    "collapsed": true
   },
   "outputs": [],
   "source": [
    "if __name__ == '__main__':\n",
    "    N = int(input())\n",
    "    \n",
    "    command_list = []\n",
    "    for _ in range(N):\n",
    "        command_name, *line = input().split()\n",
    "        command = list(map(int, line))\n",
    "        command.insert(0, command_name)\n",
    "        command_list.append(command)\n",
    "\n",
    "    \n",
    "target_list = []\n",
    "for command in command_list:\n",
    "    if command[0] == 'insert':\n",
    "        target_list.insert(command[1], command[2])\n",
    "    elif command[0] == 'print':\n",
    "        print(target_list)\n",
    "    elif command[0] == 'remove':\n",
    "        target_list.remove(command[1])\n",
    "    elif command[0] == 'append':\n",
    "        target_list.append(command[1])\n",
    "    elif command[0] == 'sort':\n",
    "        target_list.sort()\n",
    "    elif command[0] == 'pop':\n",
    "        target_list.pop()\n",
    "    else:\n",
    "        target_list.reverse()\n",
    "        \n",
    "\n",
    "# # mtd1\n",
    "# test =int(input())\n",
    "# s=[]\n",
    "# for _ in range (test):\n",
    "#     cmd=list(input().split())\n",
    "    \n",
    "#     if cmd[0]=='insert':\n",
    "#         s.insert(int(cmd[1]),int(cmd[2]))\n",
    "#     elif cmd[0]==\"remove\":\n",
    "#         s.remove(int(cmd[1]))\n",
    "#     elif cmd[0]==\"append\":\n",
    "#         s.append(int(cmd[1]))\n",
    "#     elif cmd[0]==\"sort\":\n",
    "#         s.sort()\n",
    "#     elif cmd[0]==\"pop\":\n",
    "#         s.pop()\n",
    "#     elif cmd[0]==\"reverse\":\n",
    "#         s.reverse()\n",
    "#     elif cmd[0]==\"count\":\n",
    "#         v=s.count(int(cmd[1]))\n",
    "#         print(v)\n",
    "#     elif cmd[0]==\"index\":\n",
    "#         x=s.index(int(cmd[1]))\n",
    "#         print(x)\n",
    "#     elif cmd[0]== 'print':\n",
    "#         print(s)"
   ]
  },
  {
   "cell_type": "markdown",
   "metadata": {},
   "source": [
    "### Tuples"
   ]
  },
  {
   "cell_type": "code",
   "execution_count": null,
   "metadata": {
    "collapsed": true
   },
   "outputs": [],
   "source": [
    "if __name__ == '__main__':\n",
    "    n = int(input())\n",
    "    integer_list = map(int, input().split())\n",
    "\n",
    "integer_tuple = tuple(integer_list)\n",
    "\n",
    "# mtd1\n",
    "# integer_tuple = tuple([int(n) for n in input().split()])\n",
    "print(hash(integer_tuple))"
   ]
  },
  {
   "cell_type": "markdown",
   "metadata": {},
   "source": [
    "## Strings"
   ]
  },
  {
   "cell_type": "markdown",
   "metadata": {},
   "source": [
    "### sWAP cASE"
   ]
  },
  {
   "cell_type": "code",
   "execution_count": null,
   "metadata": {
    "collapsed": true
   },
   "outputs": [],
   "source": [
    "def swap_case(s):\n",
    "    new_s = ''\n",
    "    for i in s:\n",
    "        if i.isalpha():\n",
    "            if i.isupper():\n",
    "                new_s = new_s + i.lower()\n",
    "            else:\n",
    "                new_s = new_s + i.upper()\n",
    "        else:\n",
    "            new_s = new_s + i\n",
    "    return new_s\n",
    "\n",
    "if __name__ == '__main__':\n",
    "    s = input()\n",
    "    result = swap_case(s)\n",
    "    print(result)\n",
    "    \n",
    "\n",
    "# # mtd1\n",
    "# string_input = input()\n",
    "# print(string_input.swapcase())\n",
    "\n",
    "\n",
    "# # mtd2\n",
    "# import sys\n",
    "\n",
    "# for line in sys.stdin:\n",
    "#     s.join(strings)以s连接strings \n",
    "#     line = ''.join([c.upper() if c.islower() else c.lower() for c in line])\n",
    "#     print(line)"
   ]
  },
  {
   "cell_type": "markdown",
   "metadata": {},
   "source": [
    "### String Split and Join"
   ]
  },
  {
   "cell_type": "code",
   "execution_count": null,
   "metadata": {
    "collapsed": true
   },
   "outputs": [],
   "source": [
    "def split_and_join(line):\n",
    "    # write your code here\n",
    "    strList = line.split(\" \")\n",
    "    return \"-\".join(strList)\n",
    "\n",
    "if __name__ == '__main__':\n",
    "    line = input()\n",
    "    result = split_and_join(line)\n",
    "    print(result)"
   ]
  },
  {
   "cell_type": "markdown",
   "metadata": {},
   "source": [
    "### What's Your Name?"
   ]
  },
  {
   "cell_type": "code",
   "execution_count": null,
   "metadata": {
    "collapsed": true
   },
   "outputs": [],
   "source": [
    "def print_full_name(a, b):\n",
    "    print(\"Hello %s %s! You just delved into python.\" % (a, b))\n",
    "    \n",
    "## mtd1\n",
    "#     print(\"Hello {} {}! You just delved into python.\".format(a, b))\n",
    "\n",
    "if __name__ == '__main__':\n",
    "    first_name = input()\n",
    "    last_name = input()\n",
    "    print_full_name(first_name, last_name)"
   ]
  },
  {
   "cell_type": "markdown",
   "metadata": {
    "collapsed": true
   },
   "source": [
    "### Mutations"
   ]
  },
  {
   "cell_type": "code",
   "execution_count": 328,
   "metadata": {},
   "outputs": [
    {
     "name": "stdout",
     "output_type": "stream",
     "text": [
      "abcdzfg\n",
      "4 e\n",
      "abcdefg\n"
     ]
    }
   ],
   "source": [
    "def mutate_string(string, position, character):\n",
    "    \n",
    "    # 1st\n",
    "    l = list(string)\n",
    "    l[position] = character\n",
    "    new_string = ''.join(l)\n",
    "\n",
    "    # # 2nd\n",
    "    # new_string = string[:(position - 1)] + character + string[(position + 1):]\n",
    "    return new_string\n",
    "\n",
    "\n",
    "if __name__ == '__main__':\n",
    "    s = input()\n",
    "    i, c = input().split()\n",
    "    s_new = mutate_string(s, int(i), c)\n",
    "    print(s_new)"
   ]
  },
  {
   "cell_type": "markdown",
   "metadata": {
    "collapsed": true
   },
   "source": [
    "### Find a string"
   ]
  },
  {
   "cell_type": "code",
   "execution_count": 330,
   "metadata": {
    "scrolled": true
   },
   "outputs": [
    {
     "name": "stdout",
     "output_type": "stream",
     "text": [
      "abcabdefabc\n",
      "abc\n",
      "2\n"
     ]
    }
   ],
   "source": [
    "def count_substring(string, sub_string):\n",
    "    \n",
    "    num = 0\n",
    "    len_sub = len(sub_string)\n",
    "    for i in range(len(string)): # for i in range(len(string) - len_sub + 1)\n",
    "        if len(string) < len_sub:\n",
    "            break\n",
    "        elif string[i:(i + len_sub)] == sub_string:\n",
    "            num += 1\n",
    "\n",
    "    return num\n",
    "\n",
    "\n",
    "# # mtd1\n",
    "# for i in range(0, len(S)):\n",
    "#     # S.count(sub[, start[, end]])\n",
    "#     count += S.count(ss,i,i+len(ss)) \n",
    "# print(count)\n",
    "\n",
    "\n",
    "if __name__ == '__main__':\n",
    "    \n",
    "    # str.strip() 移除字符串头尾指定的字符（默认为空格或换行符）或字符序列\n",
    "    string = input().strip()\n",
    "    sub_string = input().strip()\n",
    "    \n",
    "    count = count_substring(string, sub_string)\n",
    "    print(count)"
   ]
  },
  {
   "cell_type": "markdown",
   "metadata": {},
   "source": [
    "### String Validators"
   ]
  },
  {
   "cell_type": "code",
   "execution_count": 333,
   "metadata": {},
   "outputs": [
    {
     "name": "stdout",
     "output_type": "stream",
     "text": [
      "qA2\n",
      "True\n",
      "True\n",
      "True\n",
      "True\n",
      "True\n"
     ]
    }
   ],
   "source": [
    "if __name__ == '__main__':\n",
    "    s = input().strip()\n",
    "\n",
    "    len_s = len(s)\n",
    "    \n",
    "    #  if the string has a alphanumeric (a-z, A-Z and 0-9)\n",
    "    i = 0\n",
    "    while i < len(s):\n",
    "        if s[i].isalnum():\n",
    "            print('True')\n",
    "            break\n",
    "        else:\n",
    "            i += 1\n",
    "    if i == len(s):\n",
    "        print('False')\n",
    "\n",
    "    #  if the string has a alphabeta(a-z, A-Z)\n",
    "    while i < len(s):\n",
    "        if s[i].isalpha():\n",
    "            print('True')\n",
    "            break\n",
    "        else:\n",
    "            i += 1\n",
    "    if i == len(s):\n",
    "        print('False')\n",
    "\n",
    "    #  if the string has a digit(0-9)\n",
    "    i = 0\n",
    "    while i < len(s):\n",
    "        if s[i].isdigit():\n",
    "            print('True')\n",
    "            break\n",
    "        else:\n",
    "            i += 1\n",
    "    if i == len(s):\n",
    "        print('False')\n",
    "\n",
    "    #  if the string has a lowercase(a-z)\n",
    "    i = 0\n",
    "    while i < len(s):\n",
    "        if s[i].islower():\n",
    "            print('True')\n",
    "            break\n",
    "        else:\n",
    "            i += 1\n",
    "    if i == len(s):\n",
    "        print('False')\n",
    "    \n",
    "    #  if the string has a uppercase(A-Z)\n",
    "    i = 0\n",
    "    while i < len(s):\n",
    "        if s[i].isupper():\n",
    "            print('True')\n",
    "            break\n",
    "        else:\n",
    "            i += 1\n",
    "    if i == len(s):\n",
    "        print('False')\n",
    "        \n",
    "        \n",
    "# # mtd1\n",
    "# inp = input()\n",
    "# print(any(x.isalnum() for x in inp))\n",
    "# print(any(x.isalpha() for x in inp))\n",
    "# print(any(x.isdigit() for x in inp))\n",
    "# print(any(x.islower() for x in inp))\n",
    "# print(any(x.isupper() for x in inp))\n",
    "\n",
    "\n",
    "# # mtd2\n",
    "# s =input()\n",
    "# one=False\n",
    "# two=False\n",
    "# three=False\n",
    "# four=False\n",
    "# five=False\n",
    "\n",
    "# for c in s:\n",
    "#     if not one:\n",
    "#         one=c.isalnum()\n",
    "#     if not two:\n",
    "#         two=c.isalpha()\n",
    "#     if not three:\n",
    "#         three=c.isdigit()\n",
    "#     if not four:\n",
    "#         four=c.islower()\n",
    "#     if not five:\n",
    "#         five=c.isupper()\n",
    "\n",
    "# print(one)\n",
    "# print(two)\n",
    "# print(three)\n",
    "# print(four)\n",
    "# print(five)"
   ]
  },
  {
   "cell_type": "markdown",
   "metadata": {},
   "source": [
    "### Text Alignment"
   ]
  },
  {
   "cell_type": "code",
   "execution_count": 98,
   "metadata": {
    "scrolled": true
   },
   "outputs": [
    {
     "name": "stdout",
     "output_type": "stream",
     "text": [
      "7\n",
      "      H      \n",
      "     HHH     \n",
      "    HHHHH    \n",
      "   HHHHHHH   \n",
      "  HHHHHHHHH  \n",
      " HHHHHHHHHHH \n",
      "HHHHHHHHHHHHH\n",
      "   HHHHHHH                     HHHHHHH                  \n",
      "   HHHHHHH                     HHHHHHH                  \n",
      "   HHHHHHH                     HHHHHHH                  \n",
      "   HHHHHHH                     HHHHHHH                  \n",
      "   HHHHHHH                     HHHHHHH                  \n",
      "   HHHHHHH                     HHHHHHH                  \n",
      "   HHHHHHH                     HHHHHHH                  \n",
      "   HHHHHHH                     HHHHHHH                  \n",
      "   HHHHHHHHHHHHHHHHHHHHHHHHHHHHHHHHHHH    \n",
      "   HHHHHHHHHHHHHHHHHHHHHHHHHHHHHHHHHHH    \n",
      "   HHHHHHHHHHHHHHHHHHHHHHHHHHHHHHHHHHH    \n",
      "   HHHHHHHHHHHHHHHHHHHHHHHHHHHHHHHHHHH    \n",
      "   HHHHHHH                     HHHHHHH                  \n",
      "   HHHHHHH                     HHHHHHH                  \n",
      "   HHHHHHH                     HHHHHHH                  \n",
      "   HHHHHHH                     HHHHHHH                  \n",
      "   HHHHHHH                     HHHHHHH                  \n",
      "   HHHHHHH                     HHHHHHH                  \n",
      "   HHHHHHH                     HHHHHHH                  \n",
      "   HHHHHHH                     HHHHHHH                  \n",
      "                            HHHHHHHHHHHHH \n",
      "                             HHHHHHHHHHH  \n",
      "                              HHHHHHHHH   \n",
      "                               HHHHHHH    \n",
      "                                HHHHH     \n",
      "                                 HHH      \n",
      "                                  H       \n"
     ]
    }
   ],
   "source": [
    "#Replace all ______ with rjust, ljust or center. \n",
    "\n",
    "thickness = int(input()) #This must be an odd number\n",
    "c = 'H'\n",
    "\n",
    "#Top Cone\n",
    "for i in range(thickness):\n",
    "    print((c * (2 * i + 1)).center(thickness * 2 - 1, ' '))\n",
    "\n",
    "#Top Pillars   \n",
    "for i in range(thickness+1):\n",
    "    print((c*thickness).center(thickness*2, ' ') + (c*thickness).center(thickness*6, ' '))\n",
    "\n",
    "#Middle Belt\n",
    "for i in range((thickness+1)//2):\n",
    "    print((c*thickness*5).center(thickness*6, ' '))       \n",
    "\n",
    "for i in range(thickness+1):\n",
    "    print((c*thickness).center(thickness*2, ' ') + (c*thickness).center(thickness*6, ' '))  \n",
    "\n",
    "#Bottom Cone\n",
    "for i in range(thickness):\n",
    "    print((c * (2 * (thickness - i) - 1)).center(thickness * 2, ' ').rjust(thickness * 6, ' '))\n"
   ]
  },
  {
   "cell_type": "markdown",
   "metadata": {},
   "source": [
    "### Text Wrap"
   ]
  },
  {
   "cell_type": "code",
   "execution_count": null,
   "metadata": {
    "collapsed": true
   },
   "outputs": [],
   "source": [
    "import textwrap\n",
    "# import math\n",
    "\n",
    "def wrap(string, max_width):\n",
    "\n",
    "    # num = math.ceil(len(string) / max_width) - 1\n",
    "    # target = []\n",
    "    # for i in range(num):\n",
    "    #     target.append(string[i * max_width : (i + 1) * max_width])\n",
    "\n",
    "    # target.append(string[(i + 1) * max_width:])\n",
    "    \n",
    "    # for i in target:\n",
    "    #     print(i)\n",
    "    \n",
    "    return textwrap.fill(string, max_width)\n",
    "\n",
    "\n",
    "if __name__ == '__main__':\n",
    "    string, max_width = input(), int(input())\n",
    "    result = wrap(string, max_width)\n",
    "    print(result)\n"
   ]
  },
  {
   "cell_type": "markdown",
   "metadata": {},
   "source": [
    "### Designer Door Mat"
   ]
  },
  {
   "cell_type": "code",
   "execution_count": 105,
   "metadata": {},
   "outputs": [
    {
     "name": "stdout",
     "output_type": "stream",
     "text": [
      "9 27\n",
      "------------.|.------------\n",
      "---------.|..|..|.---------\n",
      "------.|..|..|..|..|.------\n",
      "---.|..|..|..|..|..|..|.---\n",
      "----------WELCOME----------\n",
      "---.|..|..|..|..|..|..|.---\n",
      "------.|..|..|..|..|.------\n",
      "---------.|..|..|.---------\n",
      "------------.|.------------\n"
     ]
    }
   ],
   "source": [
    "N, M = input().split() #N must be an odd number, M = 3 * N\n",
    "\n",
    "N = int(N)\n",
    "M = int(M)\n",
    "c = '.|.'\n",
    "\n",
    "num = N // 2\n",
    "for i in range(num): # for i in range(1,N,2):\n",
    "    print((c * (i * 2 + 1)).center(M, '-'))\n",
    "\n",
    "print('WELCOME'.center(M, '-'))\n",
    "\n",
    "for i in range(num):\n",
    "    print((c * ((num - i) * 2 - 1)).center(M, '-'))"
   ]
  },
  {
   "cell_type": "markdown",
   "metadata": {},
   "source": [
    "### Alphabet Rangoli"
   ]
  },
  {
   "cell_type": "code",
   "execution_count": 156,
   "metadata": {
    "scrolled": true
   },
   "outputs": [
    {
     "name": "stdout",
     "output_type": "stream",
     "text": [
      "7\n",
      "------------g------------\n",
      "----------g-f-g----------\n",
      "--------g-f-e-f-g--------\n",
      "------g-f-e-d-e-f-g------\n",
      "----g-f-e-d-c-d-e-f-g----\n",
      "--g-f-e-d-c-b-c-d-e-f-g--\n",
      "g-f-e-d-c-b-a-b-c-d-e-f-g\n",
      "--g-f-e-d-c-b-c-d-e-f-g--\n",
      "----g-f-e-d-c-d-e-f-g----\n",
      "------g-f-e-d-e-f-g------\n",
      "--------g-f-e-f-g--------\n",
      "----------g-f-g----------\n",
      "------------g------------\n",
      "\n"
     ]
    }
   ],
   "source": [
    "def print_rangoli(size):\n",
    "    \n",
    "    c_line  = 'a'\n",
    "    for i in range(size - 1):\n",
    "        c_line = chr(i + 98) + '-' + c_line + '-' + chr(i + 98)\n",
    "\n",
    "    tt_line = c_line + '\\n'\n",
    "    for i in range(size - 1):\n",
    "        c_line = (c_line[:(size * 2 - 2)] + c_line[(size * 2 + 2):]).center(size * 4 - 3, '-')\n",
    "        tt_line = c_line + '\\n' + tt_line + c_line + '\\n'\n",
    "    \n",
    "    return print(tt_line)\n",
    "    \n",
    "    \n",
    "if __name__ == '__main__':\n",
    "    n = int(input())\n",
    "    print_rangoli(n)"
   ]
  },
  {
   "cell_type": "code",
   "execution_count": 342,
   "metadata": {},
   "outputs": [
    {
     "name": "stdout",
     "output_type": "stream",
     "text": [
      "5\n",
      "--------e--------\n",
      "------e-d-e------\n",
      "----e-d-c-d-e----\n",
      "--e-d-c-b-c-d-e--\n",
      "e-d-c-b-a-b-c-d-e\n",
      "--e-d-c-b-c-d-e--\n",
      "----e-d-c-d-e----\n",
      "------e-d-e------\n",
      "--------e--------\n"
     ]
    }
   ],
   "source": [
    "#mtd1\n",
    "import string\n",
    "\n",
    "\n",
    "n = int(input())\n",
    "\n",
    "mid = n-1\n",
    "for row in range(n*2-1):\n",
    "    line = \"\"\n",
    "    for col in range(n*2-1):\n",
    "        d = abs(row-mid) + abs(col-mid)\n",
    "#         print('%d %d %d' % (row, col, d))\n",
    "        if (col>0): \n",
    "            line += \"-\"\n",
    "        if d>=n: \n",
    "            line += \"-\"\n",
    "        else: \n",
    "            line += string.ascii_lowercase[d]\n",
    "    print(line)\n",
    "    "
   ]
  },
  {
   "cell_type": "markdown",
   "metadata": {},
   "source": [
    "### Capitalize"
   ]
  },
  {
   "cell_type": "code",
   "execution_count": 343,
   "metadata": {},
   "outputs": [
    {
     "data": {
      "text/plain": [
       "'Ryan Oligen Xu Teng'"
      ]
     },
     "execution_count": 343,
     "metadata": {},
     "output_type": "execute_result"
    }
   ],
   "source": [
    "def solve(s):\n",
    "    \n",
    "    s = s.lower()\n",
    "    new_s = s[0].upper()\n",
    "        \n",
    "    for i in range(1, len(s)):\n",
    "        if s[i - 1] == ' ':\n",
    "            new_s = new_s + s[i].upper()\n",
    "        else:\n",
    "            new_s = new_s + s[i]\n",
    "            \n",
    "    return new_s\n",
    "\n",
    "# list1=s.split(' ')\n",
    "# for i in list1:\n",
    "#     print(i.capitalize(),end=' ')\n",
    "# # s.capitalize() Return a capitalized version of S, i.e. make the first character have upper case and the rest lower case.\n",
    "\n",
    "solve('rYan oLigen xu tenG')"
   ]
  },
  {
   "cell_type": "code",
   "execution_count": 344,
   "metadata": {},
   "outputs": [
    {
     "data": {
      "text/plain": [
       "['rYan', 'oLigen', 'xu', 'tenG']"
      ]
     },
     "execution_count": 344,
     "metadata": {},
     "output_type": "execute_result"
    },
    {
     "name": "stdout",
     "output_type": "stream",
     "text": [
      "Ryan Oligen Xu Teng "
     ]
    }
   ],
   "source": [
    "list1='rYan oLigen xu tenG'.split(' ')\n",
    "list1\n",
    "for i in list1:\n",
    "    print(i.capitalize(),end=' ')\n"
   ]
  },
  {
   "cell_type": "markdown",
   "metadata": {},
   "source": [
    "### The Minion Game"
   ]
  },
  {
   "cell_type": "code",
   "execution_count": 174,
   "metadata": {},
   "outputs": [
    {
     "name": "stdout",
     "output_type": "stream",
     "text": [
      "alsneiwajskwof\n",
      "Stuart 63\n"
     ]
    }
   ],
   "source": [
    "def minion_game(string):\n",
    "    s = string.upper()\n",
    "    k_score = 0\n",
    "    s_score = 0\n",
    "\n",
    "    len_s = len(s)\n",
    "    for i in range(len_s):\n",
    "        if s[i] in 'AEIOU':\n",
    "            k_score = k_score + len_s - i\n",
    "        else:\n",
    "            s_score = s_score + len_s - i\n",
    "\n",
    "    if k_score > s_score:\n",
    "        return print('Kevin %d' % k_score)\n",
    "    elif k_score == s_score:\n",
    "        return print('Draw')\n",
    "    else:\n",
    "        return print('Stuart %d' % s_score) # return print('Stuart', s_score)\n",
    "\n",
    "if __name__ == '__main__':\n",
    "    s = input()\n",
    "    minion_game(s)"
   ]
  },
  {
   "cell_type": "markdown",
   "metadata": {},
   "source": [
    "### Merge the Tools!"
   ]
  },
  {
   "cell_type": "code",
   "execution_count": 196,
   "metadata": {},
   "outputs": [
    {
     "name": "stdout",
     "output_type": "stream",
     "text": [
      "AABCAAADA\n",
      "3\n",
      "AB\n",
      "CA\n",
      "AD\n",
      "\n"
     ]
    }
   ],
   "source": [
    "def merge_the_tools(string, k):\n",
    "    \n",
    "    substr_num = int(len(string) / k)\n",
    "    string_fin = ''\n",
    "    \n",
    "#     for i in range(0, len(string), k):\n",
    "#         substr_org = string[i: (i + k)]\n",
    "    \n",
    "    for i in range(substr_num):\n",
    "        substr_org = string[i * k:(i + 1) * k]\n",
    "        substr_fin = ''\n",
    "        for i in substr_org:\n",
    "            if i not in substr_fin:\n",
    "                substr_fin = substr_fin + i\n",
    "        string_fin = string_fin + substr_fin + '\\n'\n",
    "\n",
    "    return print(string_fin)\n",
    "\n",
    "\n",
    "if __name__ == '__main__':\n",
    "    string, k = input(), int(input())\n",
    "    merge_the_tools(string, k)\n",
    "    \n",
    "    \n",
    "    \n",
    "# # mtd1\n",
    "# a = input()\n",
    "# K = int(input())\n",
    "# for n in range(len(a)//K):\n",
    "#     s = set([])\n",
    "#     out = \"\"\n",
    "#     for i in range(K*n, K*(n+1)):\n",
    "#         if a[i] not in s:\n",
    "#             s.add(a[i])\n",
    "#             out += a[i]\n",
    "#     print(out)"
   ]
  },
  {
   "cell_type": "markdown",
   "metadata": {},
   "source": [
    "## Itertools"
   ]
  },
  {
   "cell_type": "markdown",
   "metadata": {},
   "source": [
    "### itertools.product()"
   ]
  },
  {
   "cell_type": "code",
   "execution_count": 249,
   "metadata": {},
   "outputs": [
    {
     "name": "stdout",
     "output_type": "stream",
     "text": [
      "1 2 3\n",
      "3 2 1\n",
      "(1, 3) (1, 2) (1, 1) (2, 3) (2, 2) (2, 1) (3, 3) (3, 2) (3, 1)\n"
     ]
    }
   ],
   "source": [
    "from itertools import product\n",
    "\n",
    "# cartesian product 笛卡尔积\n",
    "# print list(product([1,2,3],repeat = 2))\n",
    "# print list(product([1,2,3],[3,4]))\n",
    "\n",
    "# A = [[1,2,3],[3,4,5]]\n",
    "# print list(product(*A))\n",
    "\n",
    "# B = [[1,2,3],[3,4,5],[7,8]]\n",
    "# print list(product(*B))\n",
    "\n",
    "\n",
    "a = list(map(int, input().split()))\n",
    "b = list(map(int, input().split()))\n",
    "prod_ab = list(product(a, b))\n",
    "\n",
    "for i in prod_ab[:-1]:\n",
    "    print(i, end = ' ')\n",
    "print(prod_ab[-1])\n",
    "\n",
    "# for i in l:\n",
    "#     print(i,end = ' ')\n",
    "\n",
    "# print(*list(product(a, b)))\n",
    "# print(' '.join([str(i) for i in list(product(a,b))]))"
   ]
  },
  {
   "cell_type": "markdown",
   "metadata": {},
   "source": [
    "### itertools.permutations()"
   ]
  },
  {
   "cell_type": "code",
   "execution_count": null,
   "metadata": {
    "collapsed": true
   },
   "outputs": [],
   "source": [
    "from itertools import permutations\n",
    "\n",
    "# >>> print permutations(['1','2','3'])\n",
    "# <itertools.permutations object at 0x02A45210>\n",
    "# >>> \n",
    "# >>> print list(permutations(['1','2','3']))\n",
    "# [('1', '2', '3'), ('1', '3', '2'), ('2', '1', '3'), ('2', '3', '1'), ('3', '1', '2'), ('3', '2', '1')]\n",
    "# >>> \n",
    "# >>> print list(permutations(['1','2','3'],2))\n",
    "# [('1', '2'), ('1', '3'), ('2', '1'), ('2', '3'), ('3', '1'), ('3', '2')]\n",
    "# >>>\n",
    "# >>> print list(permutations('abc',3))\n",
    "# [('a', 'b', 'c'), ('a', 'c', 'b'), ('b', 'a', 'c'), ('b', 'c', 'a'), ('c', 'a', 'b'), ('c', 'b', 'a')]\n",
    "\n",
    "\n",
    "stringA, k = input().split()\n",
    "k = int(k)\n",
    "\n",
    "pm_list = list(permutations(stringA, k))\n",
    "pm_list.sort()\n",
    "\n",
    "for item in pm_list:\n",
    "    s = ''\n",
    "    for j in range(k):\n",
    "        s = s + item[j]\n",
    "    print(s)\n",
    "\n",
    "\n",
    "    \n",
    "# for item in pm_list:\n",
    "#     print(''.join(item))\n"
   ]
  },
  {
   "cell_type": "markdown",
   "metadata": {},
   "source": [
    "## Math"
   ]
  },
  {
   "cell_type": "markdown",
   "metadata": {},
   "source": [
    "### Polar Coordinates"
   ]
  },
  {
   "cell_type": "code",
   "execution_count": 2,
   "metadata": {},
   "outputs": [
    {
     "name": "stdout",
     "output_type": "stream",
     "text": [
      "3-4j\n",
      "5.0\n",
      "-0.9272952180016122\n"
     ]
    }
   ],
   "source": [
    "import cmath\n",
    "\n",
    "c = complex(input())\n",
    "\n",
    "print(abs(c))\n",
    "print(cmath.phase(c))\n",
    "\n",
    "\n",
    "\n",
    "\n",
    "# # mtd2\n",
    "# print(*cmath.polar(complex(input())), sep='\\n')\n",
    "\n",
    "# # mtd1\n",
    "# import cmath\n",
    "\n",
    "# N = input()\n",
    "\n",
    "# if N[0] == '-':\n",
    "#     if '-' in N[1:]:\n",
    "#         N = N.split('-')\n",
    "#         Re = -float(N[1])\n",
    "#         Im = -float(N[2][:-1])\n",
    "#     else:\n",
    "#         N = N.split('+')\n",
    "#         Re = float(N[0])\n",
    "#         Im = float(N[1][:-1])\n",
    "# else:\n",
    "#     if '-' in N:\n",
    "#         N = N.split('-')\n",
    "#         Re = float(N[0])\n",
    "#         Im = -float(N[1][:-1])\n",
    "#     else:\n",
    "#         N = N.split('+')\n",
    "#         Re = float(N[0])\n",
    "#         Im = float(N[1][:-1])\n",
    "\n",
    "# C = complex(Re, Im)\n",
    "# print(abs(C))\n",
    "# print(cmath.phase(C))"
   ]
  },
  {
   "cell_type": "markdown",
   "metadata": {},
   "source": [
    "## Sets"
   ]
  },
  {
   "cell_type": "markdown",
   "metadata": {},
   "source": [
    "### introduction to Sets"
   ]
  },
  {
   "cell_type": "code",
   "execution_count": null,
   "metadata": {
    "collapsed": true
   },
   "outputs": [],
   "source": [
    "# >>> print set()\n",
    "# set([])\n",
    "\n",
    "# >>> print set('HackerRank')\n",
    "# set(['a', 'c', 'e', 'H', 'k', 'n', 'r', 'R'])\n",
    "\n",
    "# >>> print set([1,2,1,2,3,4,5,6,0,9,12,22,3])\n",
    "# set([0, 1, 2, 3, 4, 5, 6, 9, 12, 22])\n",
    "\n",
    "# >>> print set((1,2,3,4,5,5))\n",
    "# set([1, 2, 3, 4, 5])\n",
    "\n",
    "# >>> print set(set(['H','a','c','k','e','r','r','a','n','k']))\n",
    "# set(['a', 'c', 'r', 'e', 'H', 'k', 'n'])\n",
    "\n",
    "# >>> print set({'Hacker' : 'DOSHI', 'Rank' : 616 })\n",
    "# set(['Hacker', 'Rank'])\n",
    "\n",
    "# >>> print set(enumerate(['H','a','c','k','e','r','r','a','n','k']))\n",
    "\n",
    "     \n",
    "def average(array):\n",
    "    return sum(set(array)) / len(set(array))\n",
    "\n",
    "if __name__ == '__main__':\n",
    "    n = int(input())\n",
    "    arr = list(map(int, input().split()))\n",
    "    result = average(arr)\n",
    "    print(result)"
   ]
  },
  {
   "cell_type": "code",
   "execution_count": null,
   "metadata": {
    "collapsed": true
   },
   "outputs": [],
   "source": [
    "myset = {1, 2} # Directly assigning values to a set\n",
    "myset = set()  # Initializing a set\n",
    "myset = set(['a', 'b']) # Creating a set from a list\n",
    "myset\n",
    "\n",
    "myset.add('c')\n",
    "myset.add('a') # As 'a' already exists in the set, nothing happens\n",
    "myset.add((5, 4))\n",
    "myset\n",
    "\n",
    "myset.update([1, 2, 3, 4]) # update() only works for iterable objects\n",
    "myset.update({1, 7, 8})\n",
    "myset.update({1, 6}, [5, 13])\n",
    "myset\n",
    "\n",
    "myset.discard(10)\n",
    "myset\n",
    "myset.remove(13)\n",
    "myset\n",
    "\n",
    "a = {2, 4, 5, 9}\n",
    "b = {2, 4, 11, 12}\n",
    "a.union(b) # Values which exist in a or b\n",
    "a.intersection(b) # Values which exist in a and b\n",
    "a.difference(b) # Values which exist in a but not in b"
   ]
  },
  {
   "cell_type": "code",
   "execution_count": null,
   "metadata": {
    "collapsed": true
   },
   "outputs": [],
   "source": [
    "n = int(input())\n",
    "stampSet = set()\n",
    "for i in range(n):\n",
    "    stamp = input()\n",
    "    stampSet.add(stamp)\n",
    "\n",
    "print(len(stampSet))\n"
   ]
  },
  {
   "cell_type": "code",
   "execution_count": null,
   "metadata": {
    "collapsed": true
   },
   "outputs": [],
   "source": [
    "m = int(input())\n",
    "a = set(list(map(int, input().split())))\n",
    "n = int(input())\n",
    "b = set(list(map(int, input().split())))\n",
    "c = (a - b).union(b - a)\n",
    "d = list(c)\n",
    "d.sort()\n",
    "for i in d:\n",
    "    print(i)"
   ]
  },
  {
   "cell_type": "markdown",
   "metadata": {},
   "source": [
    "## Date and Time"
   ]
  },
  {
   "cell_type": "markdown",
   "metadata": {},
   "source": [
    "### Calendar Module"
   ]
  },
  {
   "cell_type": "markdown",
   "metadata": {},
   "source": [
    "[calendar functions](https://docs.python.org/2/library/calendar.html#calendar.setfirstweekday)"
   ]
  },
  {
   "cell_type": "code",
   "execution_count": 9,
   "metadata": {
    "scrolled": true
   },
   "outputs": [
    {
     "name": "stdout",
     "output_type": "stream",
     "text": [
      "                                  2019\n",
      "\n",
      "      January                   February                   March\n",
      "Su Mo Tu We Th Fr Sa      Su Mo Tu We Th Fr Sa      Su Mo Tu We Th Fr Sa\n",
      "       1  2  3  4  5                      1  2                      1  2\n",
      " 6  7  8  9 10 11 12       3  4  5  6  7  8  9       3  4  5  6  7  8  9\n",
      "13 14 15 16 17 18 19      10 11 12 13 14 15 16      10 11 12 13 14 15 16\n",
      "20 21 22 23 24 25 26      17 18 19 20 21 22 23      17 18 19 20 21 22 23\n",
      "27 28 29 30 31            24 25 26 27 28            24 25 26 27 28 29 30\n",
      "                                                    31\n",
      "\n",
      "       April                      May                       June\n",
      "Su Mo Tu We Th Fr Sa      Su Mo Tu We Th Fr Sa      Su Mo Tu We Th Fr Sa\n",
      "    1  2  3  4  5  6                1  2  3  4                         1\n",
      " 7  8  9 10 11 12 13       5  6  7  8  9 10 11       2  3  4  5  6  7  8\n",
      "14 15 16 17 18 19 20      12 13 14 15 16 17 18       9 10 11 12 13 14 15\n",
      "21 22 23 24 25 26 27      19 20 21 22 23 24 25      16 17 18 19 20 21 22\n",
      "28 29 30                  26 27 28 29 30 31         23 24 25 26 27 28 29\n",
      "                                                    30\n",
      "\n",
      "        July                     August                  September\n",
      "Su Mo Tu We Th Fr Sa      Su Mo Tu We Th Fr Sa      Su Mo Tu We Th Fr Sa\n",
      "    1  2  3  4  5  6                   1  2  3       1  2  3  4  5  6  7\n",
      " 7  8  9 10 11 12 13       4  5  6  7  8  9 10       8  9 10 11 12 13 14\n",
      "14 15 16 17 18 19 20      11 12 13 14 15 16 17      15 16 17 18 19 20 21\n",
      "21 22 23 24 25 26 27      18 19 20 21 22 23 24      22 23 24 25 26 27 28\n",
      "28 29 30 31               25 26 27 28 29 30 31      29 30\n",
      "\n",
      "      October                   November                  December\n",
      "Su Mo Tu We Th Fr Sa      Su Mo Tu We Th Fr Sa      Su Mo Tu We Th Fr Sa\n",
      "       1  2  3  4  5                      1  2       1  2  3  4  5  6  7\n",
      " 6  7  8  9 10 11 12       3  4  5  6  7  8  9       8  9 10 11 12 13 14\n",
      "13 14 15 16 17 18 19      10 11 12 13 14 15 16      15 16 17 18 19 20 21\n",
      "20 21 22 23 24 25 26      17 18 19 20 21 22 23      22 23 24 25 26 27 28\n",
      "27 28 29 30 31            24 25 26 27 28 29 30      29 30 31\n",
      "\n"
     ]
    }
   ],
   "source": [
    "import calendar\n",
    "\n",
    "print(calendar.TextCalendar(firstweekday=6).formatyear(2019))"
   ]
  },
  {
   "cell_type": "code",
   "execution_count": 13,
   "metadata": {},
   "outputs": [
    {
     "name": "stdout",
     "output_type": "stream",
     "text": [
      "2019 01 02\n",
      "WEDNESDDAY\n"
     ]
    }
   ],
   "source": [
    "import calendar\n",
    "\n",
    "m, d, y = map(int, input().split())\n",
    "\n",
    "wd = calendar.weekday(y, m, d)\n",
    "if wd == 0:\n",
    "    print('MONDAY')\n",
    "elif wd == 1:\n",
    "    print('TUESDAY')\n",
    "elif wd == 2:\n",
    "    print('WEDNESDAY')\n",
    "elif wd == 3:\n",
    "    print('THURSDAY')\n",
    "elif wd == 4:\n",
    "    print('FRIDAY')\n",
    "elif wd == 5:\n",
    "    print('SATURDAY')\n",
    "else:\n",
    "    print('SUNDAY') \n",
    "\n",
    "# days = {0:'MONDAY',1:'TUESDAY',2:'WEDNESDAY',3:'THURSDAY',4:'FRIDAY',5:'SATURDAY',6:'SUNDAY'}\n",
    "# print(days[calendar.weekday(y,m,d)])    \n",
    "\n",
    "# week   = ['Sunday', 'Monday', 'Tuesday', 'Wednesday', 'Thursday', 'Friday', 'Saturday']\n",
    "# print(week[(calendar.weekday(y, m, d) % 7].upper())\n",
    "\n",
    "# print(calendar.day_name[wd].upper())"
   ]
  },
  {
   "cell_type": "markdown",
   "metadata": {},
   "source": [
    "## Collections"
   ]
  },
  {
   "cell_type": "markdown",
   "metadata": {},
   "source": [
    "### collections.Counter()"
   ]
  },
  {
   "cell_type": "code",
   "execution_count": 406,
   "metadata": {},
   "outputs": [
    {
     "name": "stdout",
     "output_type": "stream",
     "text": [
      "10\n",
      "2 3 4 5 6 8 7 6 5 18\n",
      "6\n",
      "6 55\n",
      "6 45\n",
      "6 55\n",
      "4 40\n",
      "18 60\n",
      "10 50\n"
     ]
    },
    {
     "data": {
      "text/plain": [
       "200"
      ]
     },
     "execution_count": 406,
     "metadata": {},
     "output_type": "execute_result"
    }
   ],
   "source": [
    "from collections import Counter\n",
    "\n",
    "\n",
    "# >>> myList = [1,1,2,3,4,5,3,2,3,4,2,1,2,3]\n",
    "# >>> print Counter(myList)\n",
    "# Counter({2: 4, 3: 4, 1: 3, 4: 2, 5: 1})\n",
    "# >>>\n",
    "# >>> print Counter(myList).items()\n",
    "# [(1, 3), (2, 4), (3, 4), (4, 2), (5, 1)]\n",
    "# >>> \n",
    "# >>> print Counter(myList).keys()\n",
    "# [1, 2, 3, 4, 5]\n",
    "# >>> \n",
    "# >>> print Counter(myList).values()\n",
    "# [3, 4, 4, 2, 1]\n",
    "\n",
    "\n",
    "# number of shoes\n",
    "shoe_num = int(input())\n",
    "# size of shoes\n",
    "shoe_size = list(map(int, input().split()))\n",
    "shoe_counter = Counter(shoe_size)\n",
    "# number of customers\n",
    "cm_num = int(input())\n",
    "# customerg payment\n",
    "\n",
    "earn = 0\n",
    "for i in range(cm_num):\n",
    "    payment = list(map(int, input().split()))\n",
    "    if payment[0] in shoe_counter:\n",
    "        if shoe_counter[payment[0]] > 0:\n",
    "#     if payment[0] in shoe_counter and shoe_counter[payment[0]] > 0:\n",
    "            earn += payment[1]\n",
    "            shoe_counter[payment[0]] -= 1\n",
    "# # mtd1\n",
    "# for i in range(cm_num):\n",
    "#     sz, py = map(int, input().split())\n",
    "#     if shoe_counter[sz]:\n",
    "#         shoe_counter[sz] -= 1\n",
    "#         earn += py\n",
    "\n",
    "\n",
    "# # mtd2\n",
    "# for i in range(cm_num):\n",
    "#     sz, py = map(int, input().split())\n",
    "#     if sz in shoe_counter.elements(): # shoe_counter[sz]值减少到0，则elements不再出现\n",
    "#         shoe_counter[sz] -= 1\n",
    "#         earn += py\n",
    "\n",
    "earn"
   ]
  },
  {
   "cell_type": "markdown",
   "metadata": {},
   "source": [
    "### DefaultDict Tutorial"
   ]
  },
  {
   "cell_type": "code",
   "execution_count": 2,
   "metadata": {},
   "outputs": [
    {
     "name": "stdout",
     "output_type": "stream",
     "text": [
      "('python', ['awesome', 'language'])\n",
      "('something-else', ['not relevant'])\n"
     ]
    }
   ],
   "source": [
    "from collections import defaultdict\n",
    "d = defaultdict(list)\n",
    "d['python'].append(\"awesome\")\n",
    "d['something-else'].append(\"not relevant\")\n",
    "d['python'].append(\"language\")\n",
    "for i in d.items():\n",
    "    print(i)"
   ]
  },
  {
   "cell_type": "code",
   "execution_count": 270,
   "metadata": {},
   "outputs": [
    {
     "name": "stdout",
     "output_type": "stream",
     "text": [
      "5 2\n",
      "a\n",
      "a\n",
      "b\n",
      "a\n",
      "b\n",
      "a\n",
      "b\n",
      "1 2 4\n",
      "3 5\n"
     ]
    }
   ],
   "source": [
    "# The first line contains integers,  and  separated by a space. \n",
    "# The next  lines contains the words belonging to group . \n",
    "# The next  lines contains the words belonging to group .\n",
    "\n",
    "n, m = map(int, input().split())\n",
    "\n",
    "\n",
    "groupA = []\n",
    "for i in range(n):\n",
    "    groupA.append(input())\n",
    "    \n",
    "groupB = []\n",
    "for j in range(m):\n",
    "    groupB.append(input())\n",
    "\n",
    "\n",
    "ind = []\n",
    "\n",
    "for str_i in groupB:\n",
    "    ind_inner = []\n",
    "    if str_i not in groupA:\n",
    "        ind_inner.append(-1)\n",
    "    else:\n",
    "        for k in range(n):\n",
    "            if str_i == groupA[k]:\n",
    "                ind_inner.append(k + 1)\n",
    "    ind.append(ind_inner)\n",
    "\n",
    "for i in ind:\n",
    "    for j in i[:-1]:\n",
    "        print(j, end = ' ')\n",
    "    print(i[-1])"
   ]
  },
  {
   "cell_type": "code",
   "execution_count": null,
   "metadata": {
    "collapsed": true
   },
   "outputs": [],
   "source": [
    "from collections import defaultdict\n",
    "import sys\n",
    "\n",
    "d = defaultdict(list)\n",
    "lst = list(map(int, input().split()))\n",
    "n = lst[0]\n",
    "m = lst[1]\n",
    "for i in range(n):\n",
    "    d[sys.stdin.readline().strip()].append(i+1)\n",
    "\n",
    "    \n",
    "for i in range(m):\n",
    "    l = d[sys.stdin.readline().strip()]\n",
    "    if l: \n",
    "        print(*l)\n",
    "    else: \n",
    "        print(-1)\n",
    "# for _ in range(int(m)):\n",
    "#     i = input()\n",
    "#     print(' '.join(d[i])) if d[i] else print(-1)\n",
    "    "
   ]
  },
  {
   "cell_type": "markdown",
   "metadata": {},
   "source": [
    "### Collections.namedtuple()"
   ]
  },
  {
   "cell_type": "code",
   "execution_count": null,
   "metadata": {
    "collapsed": true
   },
   "outputs": [],
   "source": [
    "from collections import namedtuple\n",
    "Point = namedtuple('Point','x,y')\n",
    "pt1 = Point(1,2)\n",
    "pt2 = Point(3,4)\n",
    "dot_product = ( pt1.x * pt2.x ) +( pt1.y * pt2.y )\n",
    "print dot_product"
   ]
  },
  {
   "cell_type": "markdown",
   "metadata": {
    "collapsed": true
   },
   "source": [
    "### collections.namedtuple()"
   ]
  },
  {
   "cell_type": "code",
   "execution_count": null,
   "metadata": {
    "collapsed": true
   },
   "outputs": [],
   "source": [
    ">>> from collections import namedtuple\n",
    ">>> Point = namedtuple('Point','x,y')\n",
    ">>> pt1 = Point(1,2)\n",
    ">>> pt2 = Point(3,4)\n",
    ">>> dot_product = ( pt1.x * pt2.x ) +( pt1.y * pt2.y )\n",
    ">>> print dot_product\n",
    "\n",
    ">>> from collections import namedtuple\n",
    ">>> Car = namedtuple('Car','Price Mileage Colour Class')\n",
    ">>> xyz = Car(Price = 100000, Mileage = 30, Colour = 'Cyan', Class = 'Y')\n",
    ">>> print xyz\n",
    "Car(Price=100000, Mileage=30, Colour='Cyan', Class='Y')\n",
    ">>> print xyz.Class"
   ]
  },
  {
   "cell_type": "code",
   "execution_count": null,
   "metadata": {
    "collapsed": true
   },
   "outputs": [],
   "source": [
    "from collections import namedtuple\n",
    "n = int(input())\n",
    "Student = namedtuple('Student', input())\n",
    "sum_mark = 0\n",
    "for i in range(n):\n",
    "    a = Student(*input().split())\n",
    "    sum_mark += int(a.MARKS)\n",
    "\n",
    "print('%.2f' % (sum_mark / n))"
   ]
  },
  {
   "cell_type": "code",
   "execution_count": null,
   "metadata": {
    "collapsed": true
   },
   "outputs": [],
   "source": []
  },
  {
   "cell_type": "code",
   "execution_count": null,
   "metadata": {
    "collapsed": true
   },
   "outputs": [],
   "source": []
  },
  {
   "cell_type": "code",
   "execution_count": null,
   "metadata": {
    "collapsed": true
   },
   "outputs": [],
   "source": []
  },
  {
   "cell_type": "markdown",
   "metadata": {},
   "source": [
    "## Errors and Exceptions"
   ]
  },
  {
   "cell_type": "markdown",
   "metadata": {},
   "source": [
    "### Exceptions"
   ]
  },
  {
   "cell_type": "markdown",
   "metadata": {},
   "source": [
    "[build-in exceptions](https://docs.python.org/2/library/exceptions.html#module-exceptions)"
   ]
  },
  {
   "cell_type": "code",
   "execution_count": 17,
   "metadata": {},
   "outputs": [
    {
     "name": "stdout",
     "output_type": "stream",
     "text": [
      "3\n",
      "3 0\n",
      "Error Code: integer division or modulo by zero\n",
      "3 *\n",
      "Erroe Code: invalid literal for int() with base 10: '*'\n",
      "3 9\n",
      "0\n"
     ]
    }
   ],
   "source": [
    "n = int(input())\n",
    "\n",
    "for i in range(n):\n",
    "    a, b = input().split()\n",
    "    try:\n",
    "        print(int(a) // int(b))\n",
    "    except ZeroDivisionError as error:\n",
    "        print(\"Error Code:\", error)\n",
    "    except ValueError as v:\n",
    "        print('Error Code:', error)"
   ]
  },
  {
   "cell_type": "code",
   "execution_count": null,
   "metadata": {
    "collapsed": true
   },
   "outputs": [],
   "source": []
  },
  {
   "cell_type": "code",
   "execution_count": null,
   "metadata": {
    "collapsed": true
   },
   "outputs": [],
   "source": []
  },
  {
   "cell_type": "code",
   "execution_count": null,
   "metadata": {
    "collapsed": true
   },
   "outputs": [],
   "source": []
  },
  {
   "cell_type": "code",
   "execution_count": null,
   "metadata": {
    "collapsed": true
   },
   "outputs": [],
   "source": []
  },
  {
   "cell_type": "code",
   "execution_count": null,
   "metadata": {
    "collapsed": true
   },
   "outputs": [],
   "source": []
  },
  {
   "cell_type": "code",
   "execution_count": null,
   "metadata": {
    "collapsed": true
   },
   "outputs": [],
   "source": []
  }
 ],
 "metadata": {
  "kernelspec": {
   "display_name": "Python 3",
   "language": "python",
   "name": "python3"
  },
  "language_info": {
   "codemirror_mode": {
    "name": "ipython",
    "version": 3
   },
   "file_extension": ".py",
   "mimetype": "text/x-python",
   "name": "python",
   "nbconvert_exporter": "python",
   "pygments_lexer": "ipython3",
   "version": "3.6.2"
  },
  "toc": {
   "nav_menu": {},
   "number_sections": true,
   "sideBar": true,
   "skip_h1_title": false,
   "toc_cell": false,
   "toc_position": {
    "height": "450px",
    "left": "0px",
    "right": "20px",
    "top": "135px",
    "width": "209px"
   },
   "toc_section_display": "block",
   "toc_window_display": true
  }
 },
 "nbformat": 4,
 "nbformat_minor": 2
}
